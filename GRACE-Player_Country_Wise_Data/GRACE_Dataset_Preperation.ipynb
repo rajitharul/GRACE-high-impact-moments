{
 "cells": [
  {
   "cell_type": "code",
   "execution_count": 1,
   "metadata": {},
   "outputs": [
    {
     "name": "stdout",
     "output_type": "stream",
     "text": [
      "PRAISE THE LORD ALMIGHTY FATHER Thank You JESUS Praise You JESUS Forever May the HOLY SPIRIT Guide Us MOTHER MARY PRAY For Us SAINT JOSEPH, PRAY For Us SAINT ANTHONY PRAY For Us AMEN ✝⛪🧡 GOD BLESS !!! 🧡⛪✝⛪🧡\n"
     ]
    }
   ],
   "source": [
    "print(\"PRAISE THE LORD ALMIGHTY FATHER Thank You JESUS Praise You JESUS Forever May the HOLY SPIRIT Guide Us MOTHER MARY PRAY For Us SAINT JOSEPH, PRAY For Us SAINT ANTHONY PRAY For Us AMEN ✝⛪🧡 GOD BLESS !!! 🧡⛪✝⛪🧡\")"
   ]
  },
  {
   "attachments": {},
   "cell_type": "markdown",
   "metadata": {},
   "source": [
    "##### This Notebook will be working on the datascraping and alternating the dataset for Player statistic against an opponent country"
   ]
  },
  {
   "cell_type": "code",
   "execution_count": 3,
   "metadata": {},
   "outputs": [],
   "source": [
    "import datetime\n",
    "from datetime import datetime, timedelta\n",
    "def formatted_date(date):\n",
    "  #Entered in the format of a list - ['2021-10-28']\n",
    "  return (datetime.strptime(date[1:-1].replace('\"' , ''), \"'%Y-%m-%d'\").date()- timedelta(days=1)).strftime(\"%d-%b-%Y\").replace(\"-\" , \"+\")\n",
    "\n",
    " "
   ]
  },
  {
   "cell_type": "code",
   "execution_count": 4,
   "metadata": {},
   "outputs": [],
   "source": [
    "def getPlayerID(player_name):\n",
    "    query = player_name + ' espncricinfo'\n",
    "    search_result_list = list(search(query, tld=\"co.in\", num=10, stop=5, pause=1))\n",
    "    for s in search_result_list:\n",
    "        if \"espncricinfo\" in s:\n",
    "            player_id = s.split(\"-\")[-1]\n",
    "            break\n",
    "    #print('Player Name' , player_name , 'Player Id is ' , player_id)\n",
    "    #print(search_result_list)\n",
    "    return player_id"
   ]
  },
  {
   "cell_type": "code",
   "execution_count": null,
   "metadata": {},
   "outputs": [],
   "source": [
    "def getCountryId(country):\n",
    "    #array(['England', 'Pakistan', 'India', 'Sri Lanka', 'Australia',\n",
    "      # 'New Zealand', 'Afghanistan', 'West Indies', 'Bangladesh',\n",
    "       #'South Africa'], dtype=object)\n",
    "    \n",
    "    country_list = {\n",
    "        'India' : 6,\n",
    "        'Australia' : 2,\n",
    "        'England' : 1,\n",
    "        'South Africa' : 3,\n",
    "        'Pakistan' : 2,\n",
    "        'Sri Lanka' : 2,\n",
    "        'New Zealand' : 2,\n",
    "        'Afghanistan' : 2,\n",
    "        'West Indies' : 2,\n",
    "        'Bangladesh' : 2,\n",
    "\n",
    "\n",
    "    }"
   ]
  },
  {
   "cell_type": "code",
   "execution_count": 5,
   "metadata": {},
   "outputs": [],
   "source": [
    "import json\n",
    "import pandas as pd\n",
    "import seaborn as sns\n",
    "import os\n",
    "import numpy as np\n",
    "import matplotlib.pyplot as plt\n",
    "import requests\n",
    "from bs4 import BeautifulSoup\n",
    "from googlesearch import search\n",
    "from datetime import datetime\n",
    "\n",
    "def getBatsmanDetails(player_name, date , country):\n",
    "        date = formatted_date(date)\n",
    "\n",
    "  #Mat\tInns\tNO\tRuns\tHS\tAve\tBF\tSR\t100\t50\t0\t4s\t6s\t\n",
    "        df = pd.DataFrame(columns = ['Ave','SR','100','50','0','4s','6s' , 'Mat','Inns','NO','Runs','HS' ,'BF'])\n",
    "        df.loc[len(df)] = 0\n",
    "        df_final = pd.DataFrame(columns = ['Ave','SR','100','50','0','4s','6s', 'Mat','Inns','NO','Runs','HS' ,'BF'])\n",
    "\n",
    "    #try:\n",
    "        format = 3\n",
    "        #opposition = 40\n",
    "        player_id = getPlayerID(player_name)  \n",
    "        page = requests.get(f'https://stats.espncricinfo.com/ci/engine/player/{player_id}.html?class={format};spanmax1={date};spanval1=span;template=results;type=batting;view=innings')\n",
    "        df = pd.read_html(page.text)[2]\n",
    "        display(df)\n",
    "        #print(type(df))\n",
    "        print(f'https://stats.espncricinfo.com/ci/engine/player/{player_id}.html?class={format};spanmax1={date};spanval1=span;template=results;type=batting;view=innings')\n",
    "      \n",
    "        if len(df) == 2:\n",
    "            df_final = df[['Ave','SR','100','50','0','4s','6s', 'Mat','Inns','NO','Runs','HS' ,'BF']][1:2]\n",
    "            #display(df)\n",
    "        elif len(df) == 1:\n",
    "            cols = len(df.axes[1])\n",
    "            if cols == 7:\n",
    "                df_final = df[['Ave','SR','100','50','0','4s','6s', 'Mat','Inns','NO','Runs','HS' ,'BF']][0:1]\n",
    "            elif df.at[0, 0]==\"No records available to match this query\":\n",
    "                df_final = pd.DataFrame({'Ave':np.nan,'SR':np.nan,'100':np.nan,'50':np.nan,'0':np.nan,'4s':np.nan,'6s':np.nan,'Mat':np.nan,'Inns':np.nan,'NO':np.nan,'Runs':np.nan,'HS':np.nan,'BF':np.nan},index=[1])      \n",
    "        \n",
    "            #print(\"3\")\n",
    "        #df_final.insert(0, \"batsman_name\", player_name, True)\n",
    "        #df_final = df_final.rename(columns={'Ave':prefix+'Ave','SR':prefix+'SR','100':prefix+'100','50':prefix+'50','0':prefix+'0','4s':prefix+'4s','6s':prefix+'6s'})\n",
    "    #except:\n",
    "        #print(\"An exception occurred\")\n",
    "    #finally:\n",
    "        return df_final"
   ]
  },
  {
   "cell_type": "code",
   "execution_count": 6,
   "metadata": {},
   "outputs": [
    {
     "data": {
      "text/html": [
       "<div>\n",
       "<style scoped>\n",
       "    .dataframe tbody tr th:only-of-type {\n",
       "        vertical-align: middle;\n",
       "    }\n",
       "\n",
       "    .dataframe tbody tr th {\n",
       "        vertical-align: top;\n",
       "    }\n",
       "\n",
       "    .dataframe thead th {\n",
       "        text-align: right;\n",
       "    }\n",
       "</style>\n",
       "<table border=\"1\" class=\"dataframe\">\n",
       "  <thead>\n",
       "    <tr style=\"text-align: right;\">\n",
       "      <th></th>\n",
       "      <th>Unnamed: 0</th>\n",
       "      <th>Mat</th>\n",
       "      <th>Inns</th>\n",
       "      <th>NO</th>\n",
       "      <th>Runs</th>\n",
       "      <th>HS</th>\n",
       "      <th>Ave</th>\n",
       "      <th>BF</th>\n",
       "      <th>SR</th>\n",
       "      <th>100</th>\n",
       "      <th>50</th>\n",
       "      <th>0</th>\n",
       "      <th>4s</th>\n",
       "      <th>6s</th>\n",
       "      <th>Unnamed: 14</th>\n",
       "    </tr>\n",
       "  </thead>\n",
       "  <tbody>\n",
       "    <tr>\n",
       "      <th>0</th>\n",
       "      <td>unfiltered</td>\n",
       "      <td>37</td>\n",
       "      <td>37</td>\n",
       "      <td>4</td>\n",
       "      <td>823</td>\n",
       "      <td>80*</td>\n",
       "      <td>24.93</td>\n",
       "      <td>670</td>\n",
       "      <td>122.83</td>\n",
       "      <td>0</td>\n",
       "      <td>4</td>\n",
       "      <td>4</td>\n",
       "      <td>61</td>\n",
       "      <td>34</td>\n",
       "      <td>Profile</td>\n",
       "    </tr>\n",
       "    <tr>\n",
       "      <th>1</th>\n",
       "      <td>filtered</td>\n",
       "      <td>4</td>\n",
       "      <td>4</td>\n",
       "      <td>0</td>\n",
       "      <td>70</td>\n",
       "      <td>44</td>\n",
       "      <td>17.50</td>\n",
       "      <td>75</td>\n",
       "      <td>93.33</td>\n",
       "      <td>0</td>\n",
       "      <td>0</td>\n",
       "      <td>0</td>\n",
       "      <td>4</td>\n",
       "      <td>3</td>\n",
       "      <td>NaN</td>\n",
       "    </tr>\n",
       "  </tbody>\n",
       "</table>\n",
       "</div>"
      ],
      "text/plain": [
       "   Unnamed: 0  Mat  Inns  NO  Runs   HS    Ave   BF      SR  100  50  0  4s  \\\n",
       "0  unfiltered   37    37   4   823  80*  24.93  670  122.83    0   4  4  61   \n",
       "1    filtered    4     4   0    70   44  17.50   75   93.33    0   0  0   4   \n",
       "\n",
       "   6s Unnamed: 14  \n",
       "0  34     Profile  \n",
       "1   3         NaN  "
      ]
     },
     "metadata": {},
     "output_type": "display_data"
    },
    {
     "name": "stdout",
     "output_type": "stream",
     "text": [
      "https://stats.espncricinfo.com/ci/engine/player/784367.html?class=3;spanmax1=23+Oct+2021;spanval1=span;template=results;type=batting;view=innings\n"
     ]
    },
    {
     "data": {
      "text/html": [
       "<div>\n",
       "<style scoped>\n",
       "    .dataframe tbody tr th:only-of-type {\n",
       "        vertical-align: middle;\n",
       "    }\n",
       "\n",
       "    .dataframe tbody tr th {\n",
       "        vertical-align: top;\n",
       "    }\n",
       "\n",
       "    .dataframe thead th {\n",
       "        text-align: right;\n",
       "    }\n",
       "</style>\n",
       "<table border=\"1\" class=\"dataframe\">\n",
       "  <thead>\n",
       "    <tr style=\"text-align: right;\">\n",
       "      <th></th>\n",
       "      <th>Ave</th>\n",
       "      <th>SR</th>\n",
       "      <th>100</th>\n",
       "      <th>50</th>\n",
       "      <th>0</th>\n",
       "      <th>4s</th>\n",
       "      <th>6s</th>\n",
       "      <th>Mat</th>\n",
       "      <th>Inns</th>\n",
       "      <th>NO</th>\n",
       "      <th>Runs</th>\n",
       "      <th>HS</th>\n",
       "      <th>BF</th>\n",
       "    </tr>\n",
       "  </thead>\n",
       "  <tbody>\n",
       "    <tr>\n",
       "      <th>1</th>\n",
       "      <td>17.5</td>\n",
       "      <td>93.33</td>\n",
       "      <td>0</td>\n",
       "      <td>0</td>\n",
       "      <td>0</td>\n",
       "      <td>4</td>\n",
       "      <td>3</td>\n",
       "      <td>4</td>\n",
       "      <td>4</td>\n",
       "      <td>0</td>\n",
       "      <td>70</td>\n",
       "      <td>44</td>\n",
       "      <td>75</td>\n",
       "    </tr>\n",
       "  </tbody>\n",
       "</table>\n",
       "</div>"
      ],
      "text/plain": [
       "    Ave     SR  100  50  0  4s  6s  Mat  Inns  NO  Runs  HS  BF\n",
       "1  17.5  93.33    0   0  0   4   3    4     4   0    70  44  75"
      ]
     },
     "execution_count": 6,
     "metadata": {},
     "output_type": "execute_result"
    }
   ],
   "source": [
    "getBatsmanDetails(\"Charith Asalanka\",\"['2021-10-24']\")"
   ]
  },
  {
   "cell_type": "code",
   "execution_count": null,
   "metadata": {},
   "outputs": [],
   "source": [
    "#https://stats.espncricinfo.com/ci/engine/player/784367.html?class=3;opposition=6;spanmax1=23+Oct+2021;spanval1=span;template=results;type=batting;view=innings - This is the format when requiring the country \n"
   ]
  },
  {
   "cell_type": "code",
   "execution_count": 7,
   "metadata": {},
   "outputs": [],
   "source": [
    "df_matches = pd.read_csv('2022_to_2023_all_matches_preprocessed_v1.csv')\n"
   ]
  },
  {
   "cell_type": "code",
   "execution_count": 11,
   "metadata": {},
   "outputs": [
    {
     "data": {
      "text/plain": [
       "array(['England', 'Pakistan', 'India', 'Sri Lanka', 'Australia',\n",
       "       'New Zealand', 'Afghanistan', 'West Indies', 'Bangladesh',\n",
       "       'South Africa'], dtype=object)"
      ]
     },
     "execution_count": 11,
     "metadata": {},
     "output_type": "execute_result"
    }
   ],
   "source": [
    "countries = df_matches['country'].unique()\n",
    "countries"
   ]
  },
  {
   "cell_type": "code",
   "execution_count": null,
   "metadata": {},
   "outputs": [],
   "source": []
  }
 ],
 "metadata": {
  "kernelspec": {
   "display_name": "Python 3",
   "language": "python",
   "name": "python3"
  },
  "language_info": {
   "codemirror_mode": {
    "name": "ipython",
    "version": 3
   },
   "file_extension": ".py",
   "mimetype": "text/x-python",
   "name": "python",
   "nbconvert_exporter": "python",
   "pygments_lexer": "ipython3",
   "version": "3.9.5"
  },
  "orig_nbformat": 4
 },
 "nbformat": 4,
 "nbformat_minor": 2
}
