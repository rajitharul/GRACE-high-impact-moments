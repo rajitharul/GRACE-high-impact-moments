{
 "cells": [
  {
   "cell_type": "code",
   "execution_count": 1,
   "metadata": {},
   "outputs": [
    {
     "name": "stdout",
     "output_type": "stream",
     "text": [
      "PRAISE THE LORD ALMIGHTY FATHER Thank You JESUS Praise You JESUS Forever May the HOLY SPIRIT Guide Us MOTHER MARY PRAY For Us SAINT JOSEPH, PRAY For Us SAINT ANTHONY PRAY For Us GOD BLESS !!! 🧡⛪✝⛪🧡\n"
     ]
    }
   ],
   "source": [
    "print(\"PRAISE THE LORD ALMIGHTY FATHER Thank You JESUS Praise You JESUS Forever May the HOLY SPIRIT Guide Us MOTHER MARY PRAY For Us SAINT JOSEPH, PRAY For Us SAINT ANTHONY PRAY For Us GOD BLESS !!! 🧡⛪✝⛪🧡\")"
   ]
  },
  {
   "cell_type": "code",
   "execution_count": 2,
   "metadata": {},
   "outputs": [],
   "source": [
    "import pandas as pd"
   ]
  },
  {
   "attachments": {},
   "cell_type": "markdown",
   "metadata": {},
   "source": [
    "### This would analyse all the features and Produce WTTE - RNN"
   ]
  },
  {
   "cell_type": "code",
   "execution_count": 3,
   "metadata": {},
   "outputs": [],
   "source": [
    "df_matches = pd.read_csv('2022_to_2023_all_matches_preprocessed_v1.csv')\n"
   ]
  },
  {
   "cell_type": "code",
   "execution_count": 4,
   "metadata": {},
   "outputs": [
    {
     "name": "stdout",
     "output_type": "stream",
     "text": [
      "<class 'pandas.core.frame.DataFrame'>\n",
      "RangeIndex: 19110 entries, 0 to 19109\n",
      "Data columns (total 67 columns):\n",
      " #   Column                                     Non-Null Count  Dtype  \n",
      "---  ------                                     --------------  -----  \n",
      " 0   Unnamed: 0.1                               19110 non-null  int64  \n",
      " 1   Unnamed: 0                                 19110 non-null  int64  \n",
      " 2   year                                       19110 non-null  object \n",
      " 3   over_start_bowler_balls_bowled             19110 non-null  int64  \n",
      " 4   over_start_bowler_wickets_taken            19110 non-null  int64  \n",
      " 5   over_start_bowler_runs_given               19110 non-null  int64  \n",
      " 6   over_start_batsman_on_strike_fours         19110 non-null  int64  \n",
      " 7   over_start_batsman_on_strike_sixers        19110 non-null  int64  \n",
      " 8   over_start_batsman_off_strike_balls_faced  19110 non-null  int64  \n",
      " 9   over_start_batsman_on_strike_balls_faced   19110 non-null  int64  \n",
      " 10  over_start_batsman_offstrike_runs          19110 non-null  int64  \n",
      " 11  over_start_batsman_onstrike_runs           19110 non-null  int64  \n",
      " 12  innings                                    19110 non-null  int64  \n",
      " 13  match_num                                  19110 non-null  int64  \n",
      " 14  country                                    19110 non-null  object \n",
      " 15  target                                     19110 non-null  int64  \n",
      " 16  req_run_rate                               19110 non-null  float64\n",
      " 17  over_start_run_rate                        19110 non-null  float64\n",
      " 18  over_start_total_score                     19110 non-null  int64  \n",
      " 19  over_start_total_wickets_fallen            19110 non-null  int64  \n",
      " 20  over                                       19110 non-null  int64  \n",
      " 21  Bowler                                     19110 non-null  object \n",
      " 22  batter_onStrike                            19110 non-null  object \n",
      " 23  batter_offstrike                           19110 non-null  object \n",
      " 24  wickets_fallen                             19110 non-null  float64\n",
      " 25  sixers                                     19110 non-null  float64\n",
      " 26  fours                                      19110 non-null  float64\n",
      " 27  total_runs                                 19110 non-null  float64\n",
      " 28  bat_on_str_Ave                             19110 non-null  float64\n",
      " 29  bat_on_str_SR                              19110 non-null  float64\n",
      " 30  bat_on_str_100                             19110 non-null  float64\n",
      " 31  bat_on_str_50                              19110 non-null  float64\n",
      " 32  bat_on_str_0                               19110 non-null  float64\n",
      " 33  bat_on_str_4s                              19110 non-null  float64\n",
      " 34  bat_on_str_6s                              19110 non-null  float64\n",
      " 35  bat_on_str_Mat                             19110 non-null  float64\n",
      " 36  bat_on_str_Inns                            19110 non-null  float64\n",
      " 37  bat_on_str_NO                              19110 non-null  float64\n",
      " 38  bat_on_str_Runs                            19110 non-null  float64\n",
      " 39  bat_on_str_HS                              19110 non-null  float64\n",
      " 40  bat_on_str_BF                              19110 non-null  float64\n",
      " 41  bowler_Mat                                 19110 non-null  float64\n",
      " 42  bowler_Inns                                19110 non-null  float64\n",
      " 43  bowler_Overs                               19110 non-null  float64\n",
      " 44  bowler_Mdns                                19110 non-null  float64\n",
      " 45  bowler_Runs                                19110 non-null  float64\n",
      " 46  bowler_Wkts                                19110 non-null  float64\n",
      " 47  bowler_Ave                                 19110 non-null  float64\n",
      " 48  bowler_Econ                                19110 non-null  float64\n",
      " 49  bowler_SR                                  19110 non-null  float64\n",
      " 50  bowler_4w                                  19110 non-null  float64\n",
      " 51  bowler_5w                                  19110 non-null  float64\n",
      " 52  bat_off_str_Ave                            19110 non-null  float64\n",
      " 53  bat_off_str_SR                             19110 non-null  float64\n",
      " 54  bat_off_str_100                            19110 non-null  float64\n",
      " 55  y_is_wicket_fallen                         19110 non-null  int64  \n",
      " 56  bat_off_str_50                             19110 non-null  float64\n",
      " 57  bat_off_str_0                              19110 non-null  float64\n",
      " 58  bat_off_str_4s                             19110 non-null  float64\n",
      " 59  bat_off_str_6s                             19110 non-null  float64\n",
      " 60  bat_off_str_Mat                            19110 non-null  float64\n",
      " 61  bat_off_str_Inns                           19110 non-null  float64\n",
      " 62  bat_off_str_NO                             19110 non-null  float64\n",
      " 63  bat_off_str_Runs                           19110 non-null  float64\n",
      " 64  bat_off_str_HS                             19110 non-null  float64\n",
      " 65  bat_off_str_BF                             19110 non-null  float64\n",
      " 66  date                                       19110 non-null  object \n",
      "dtypes: float64(43), int64(18), object(6)\n",
      "memory usage: 9.8+ MB\n"
     ]
    }
   ],
   "source": [
    "df_matches.info()"
   ]
  },
  {
   "attachments": {},
   "cell_type": "markdown",
   "metadata": {},
   "source": [
    "### Create A Method to Analyse the Time To Event and Uncencored\n"
   ]
  },
  {
   "cell_type": "code",
   "execution_count": 5,
   "metadata": {},
   "outputs": [
    {
     "data": {
      "text/html": [
       "<div>\n",
       "<style scoped>\n",
       "    .dataframe tbody tr th:only-of-type {\n",
       "        vertical-align: middle;\n",
       "    }\n",
       "\n",
       "    .dataframe tbody tr th {\n",
       "        vertical-align: top;\n",
       "    }\n",
       "\n",
       "    .dataframe thead th {\n",
       "        text-align: right;\n",
       "    }\n",
       "</style>\n",
       "<table border=\"1\" class=\"dataframe\">\n",
       "  <thead>\n",
       "    <tr style=\"text-align: right;\">\n",
       "      <th></th>\n",
       "      <th>date</th>\n",
       "      <th>over_start_bowler_balls_bowled</th>\n",
       "      <th>over_start_bowler_wickets_taken</th>\n",
       "      <th>over_start_bowler_runs_given</th>\n",
       "      <th>over_start_batsman_on_strike_fours</th>\n",
       "      <th>over_start_batsman_on_strike_sixers</th>\n",
       "      <th>over_start_batsman_off_strike_balls_faced</th>\n",
       "      <th>over_start_batsman_on_strike_balls_faced</th>\n",
       "      <th>over_start_batsman_offstrike_runs</th>\n",
       "      <th>over_start_batsman_onstrike_runs</th>\n",
       "      <th>...</th>\n",
       "      <th>bat_off_str_4s</th>\n",
       "      <th>bat_off_str_6s</th>\n",
       "      <th>bat_off_str_Mat</th>\n",
       "      <th>bat_off_str_Inns</th>\n",
       "      <th>bat_off_str_NO</th>\n",
       "      <th>bat_off_str_Runs</th>\n",
       "      <th>bat_off_str_HS</th>\n",
       "      <th>bat_off_str_BF</th>\n",
       "      <th>y_is_wicket_fallen</th>\n",
       "      <th>match_num</th>\n",
       "    </tr>\n",
       "  </thead>\n",
       "  <tbody>\n",
       "    <tr>\n",
       "      <th>0</th>\n",
       "      <td>2015-11-26</td>\n",
       "      <td>0</td>\n",
       "      <td>0</td>\n",
       "      <td>0</td>\n",
       "      <td>0</td>\n",
       "      <td>0</td>\n",
       "      <td>0</td>\n",
       "      <td>0</td>\n",
       "      <td>0</td>\n",
       "      <td>0</td>\n",
       "      <td>...</td>\n",
       "      <td>114.000000</td>\n",
       "      <td>35.000000</td>\n",
       "      <td>35.000000</td>\n",
       "      <td>35.000000</td>\n",
       "      <td>5.000000</td>\n",
       "      <td>1092.000000</td>\n",
       "      <td>116.000000</td>\n",
       "      <td>797.0000</td>\n",
       "      <td>0</td>\n",
       "      <td>468</td>\n",
       "    </tr>\n",
       "    <tr>\n",
       "      <th>1</th>\n",
       "      <td>2015-11-26</td>\n",
       "      <td>0</td>\n",
       "      <td>0</td>\n",
       "      <td>0</td>\n",
       "      <td>0</td>\n",
       "      <td>0</td>\n",
       "      <td>3</td>\n",
       "      <td>3</td>\n",
       "      <td>1</td>\n",
       "      <td>4</td>\n",
       "      <td>...</td>\n",
       "      <td>114.000000</td>\n",
       "      <td>35.000000</td>\n",
       "      <td>35.000000</td>\n",
       "      <td>35.000000</td>\n",
       "      <td>5.000000</td>\n",
       "      <td>1092.000000</td>\n",
       "      <td>116.000000</td>\n",
       "      <td>797.0000</td>\n",
       "      <td>1</td>\n",
       "      <td>468</td>\n",
       "    </tr>\n",
       "    <tr>\n",
       "      <th>2</th>\n",
       "      <td>2015-11-26</td>\n",
       "      <td>6</td>\n",
       "      <td>0</td>\n",
       "      <td>5</td>\n",
       "      <td>1</td>\n",
       "      <td>0</td>\n",
       "      <td>0</td>\n",
       "      <td>6</td>\n",
       "      <td>0</td>\n",
       "      <td>6</td>\n",
       "      <td>...</td>\n",
       "      <td>69.178322</td>\n",
       "      <td>28.380821</td>\n",
       "      <td>36.585675</td>\n",
       "      <td>32.818811</td>\n",
       "      <td>5.740116</td>\n",
       "      <td>771.773217</td>\n",
       "      <td>69.867867</td>\n",
       "      <td>589.3779</td>\n",
       "      <td>1</td>\n",
       "      <td>468</td>\n",
       "    </tr>\n",
       "    <tr>\n",
       "      <th>3</th>\n",
       "      <td>2015-11-26</td>\n",
       "      <td>7</td>\n",
       "      <td>1</td>\n",
       "      <td>11</td>\n",
       "      <td>0</td>\n",
       "      <td>0</td>\n",
       "      <td>3</td>\n",
       "      <td>0</td>\n",
       "      <td>0</td>\n",
       "      <td>0</td>\n",
       "      <td>...</td>\n",
       "      <td>14.000000</td>\n",
       "      <td>4.000000</td>\n",
       "      <td>8.000000</td>\n",
       "      <td>8.000000</td>\n",
       "      <td>1.000000</td>\n",
       "      <td>129.000000</td>\n",
       "      <td>72.000000</td>\n",
       "      <td>101.0000</td>\n",
       "      <td>1</td>\n",
       "      <td>468</td>\n",
       "    </tr>\n",
       "    <tr>\n",
       "      <th>4</th>\n",
       "      <td>2015-11-26</td>\n",
       "      <td>12</td>\n",
       "      <td>1</td>\n",
       "      <td>7</td>\n",
       "      <td>0</td>\n",
       "      <td>0</td>\n",
       "      <td>1</td>\n",
       "      <td>2</td>\n",
       "      <td>0</td>\n",
       "      <td>0</td>\n",
       "      <td>...</td>\n",
       "      <td>105.000000</td>\n",
       "      <td>51.000000</td>\n",
       "      <td>52.000000</td>\n",
       "      <td>51.000000</td>\n",
       "      <td>10.000000</td>\n",
       "      <td>1225.000000</td>\n",
       "      <td>85.000000</td>\n",
       "      <td>914.0000</td>\n",
       "      <td>0</td>\n",
       "      <td>468</td>\n",
       "    </tr>\n",
       "    <tr>\n",
       "      <th>...</th>\n",
       "      <td>...</td>\n",
       "      <td>...</td>\n",
       "      <td>...</td>\n",
       "      <td>...</td>\n",
       "      <td>...</td>\n",
       "      <td>...</td>\n",
       "      <td>...</td>\n",
       "      <td>...</td>\n",
       "      <td>...</td>\n",
       "      <td>...</td>\n",
       "      <td>...</td>\n",
       "      <td>...</td>\n",
       "      <td>...</td>\n",
       "      <td>...</td>\n",
       "      <td>...</td>\n",
       "      <td>...</td>\n",
       "      <td>...</td>\n",
       "      <td>...</td>\n",
       "      <td>...</td>\n",
       "      <td>...</td>\n",
       "      <td>...</td>\n",
       "    </tr>\n",
       "    <tr>\n",
       "      <th>19105</th>\n",
       "      <td>2018-04-03</td>\n",
       "      <td>6</td>\n",
       "      <td>0</td>\n",
       "      <td>19</td>\n",
       "      <td>5</td>\n",
       "      <td>0</td>\n",
       "      <td>19</td>\n",
       "      <td>36</td>\n",
       "      <td>20</td>\n",
       "      <td>46</td>\n",
       "      <td>...</td>\n",
       "      <td>10.000000</td>\n",
       "      <td>2.000000</td>\n",
       "      <td>2.000000</td>\n",
       "      <td>2.000000</td>\n",
       "      <td>0.000000</td>\n",
       "      <td>104.000000</td>\n",
       "      <td>63.000000</td>\n",
       "      <td>78.0000</td>\n",
       "      <td>1</td>\n",
       "      <td>665</td>\n",
       "    </tr>\n",
       "    <tr>\n",
       "      <th>19106</th>\n",
       "      <td>2018-04-03</td>\n",
       "      <td>12</td>\n",
       "      <td>1</td>\n",
       "      <td>15</td>\n",
       "      <td>0</td>\n",
       "      <td>0</td>\n",
       "      <td>20</td>\n",
       "      <td>1</td>\n",
       "      <td>21</td>\n",
       "      <td>1</td>\n",
       "      <td>...</td>\n",
       "      <td>10.000000</td>\n",
       "      <td>2.000000</td>\n",
       "      <td>2.000000</td>\n",
       "      <td>2.000000</td>\n",
       "      <td>0.000000</td>\n",
       "      <td>104.000000</td>\n",
       "      <td>63.000000</td>\n",
       "      <td>78.0000</td>\n",
       "      <td>0</td>\n",
       "      <td>665</td>\n",
       "    </tr>\n",
       "    <tr>\n",
       "      <th>19107</th>\n",
       "      <td>2018-04-03</td>\n",
       "      <td>12</td>\n",
       "      <td>1</td>\n",
       "      <td>26</td>\n",
       "      <td>2</td>\n",
       "      <td>0</td>\n",
       "      <td>6</td>\n",
       "      <td>21</td>\n",
       "      <td>2</td>\n",
       "      <td>22</td>\n",
       "      <td>...</td>\n",
       "      <td>1.000000</td>\n",
       "      <td>1.000000</td>\n",
       "      <td>2.000000</td>\n",
       "      <td>2.000000</td>\n",
       "      <td>0.000000</td>\n",
       "      <td>15.000000</td>\n",
       "      <td>14.000000</td>\n",
       "      <td>10.0000</td>\n",
       "      <td>0</td>\n",
       "      <td>665</td>\n",
       "    </tr>\n",
       "    <tr>\n",
       "      <th>19108</th>\n",
       "      <td>2018-04-03</td>\n",
       "      <td>18</td>\n",
       "      <td>1</td>\n",
       "      <td>21</td>\n",
       "      <td>1</td>\n",
       "      <td>0</td>\n",
       "      <td>24</td>\n",
       "      <td>11</td>\n",
       "      <td>26</td>\n",
       "      <td>8</td>\n",
       "      <td>...</td>\n",
       "      <td>10.000000</td>\n",
       "      <td>2.000000</td>\n",
       "      <td>2.000000</td>\n",
       "      <td>2.000000</td>\n",
       "      <td>0.000000</td>\n",
       "      <td>104.000000</td>\n",
       "      <td>63.000000</td>\n",
       "      <td>78.0000</td>\n",
       "      <td>0</td>\n",
       "      <td>665</td>\n",
       "    </tr>\n",
       "    <tr>\n",
       "      <th>19109</th>\n",
       "      <td>2018-04-03</td>\n",
       "      <td>12</td>\n",
       "      <td>0</td>\n",
       "      <td>22</td>\n",
       "      <td>1</td>\n",
       "      <td>0</td>\n",
       "      <td>26</td>\n",
       "      <td>15</td>\n",
       "      <td>27</td>\n",
       "      <td>14</td>\n",
       "      <td>...</td>\n",
       "      <td>10.000000</td>\n",
       "      <td>2.000000</td>\n",
       "      <td>2.000000</td>\n",
       "      <td>2.000000</td>\n",
       "      <td>0.000000</td>\n",
       "      <td>104.000000</td>\n",
       "      <td>63.000000</td>\n",
       "      <td>78.0000</td>\n",
       "      <td>0</td>\n",
       "      <td>665</td>\n",
       "    </tr>\n",
       "  </tbody>\n",
       "</table>\n",
       "<p>19110 rows × 60 columns</p>\n",
       "</div>"
      ],
      "text/plain": [
       "             date  over_start_bowler_balls_bowled  \\\n",
       "0      2015-11-26                               0   \n",
       "1      2015-11-26                               0   \n",
       "2      2015-11-26                               6   \n",
       "3      2015-11-26                               7   \n",
       "4      2015-11-26                              12   \n",
       "...           ...                             ...   \n",
       "19105  2018-04-03                               6   \n",
       "19106  2018-04-03                              12   \n",
       "19107  2018-04-03                              12   \n",
       "19108  2018-04-03                              18   \n",
       "19109  2018-04-03                              12   \n",
       "\n",
       "       over_start_bowler_wickets_taken  over_start_bowler_runs_given  \\\n",
       "0                                    0                             0   \n",
       "1                                    0                             0   \n",
       "2                                    0                             5   \n",
       "3                                    1                            11   \n",
       "4                                    1                             7   \n",
       "...                                ...                           ...   \n",
       "19105                                0                            19   \n",
       "19106                                1                            15   \n",
       "19107                                1                            26   \n",
       "19108                                1                            21   \n",
       "19109                                0                            22   \n",
       "\n",
       "       over_start_batsman_on_strike_fours  \\\n",
       "0                                       0   \n",
       "1                                       0   \n",
       "2                                       1   \n",
       "3                                       0   \n",
       "4                                       0   \n",
       "...                                   ...   \n",
       "19105                                   5   \n",
       "19106                                   0   \n",
       "19107                                   2   \n",
       "19108                                   1   \n",
       "19109                                   1   \n",
       "\n",
       "       over_start_batsman_on_strike_sixers  \\\n",
       "0                                        0   \n",
       "1                                        0   \n",
       "2                                        0   \n",
       "3                                        0   \n",
       "4                                        0   \n",
       "...                                    ...   \n",
       "19105                                    0   \n",
       "19106                                    0   \n",
       "19107                                    0   \n",
       "19108                                    0   \n",
       "19109                                    0   \n",
       "\n",
       "       over_start_batsman_off_strike_balls_faced  \\\n",
       "0                                              0   \n",
       "1                                              3   \n",
       "2                                              0   \n",
       "3                                              3   \n",
       "4                                              1   \n",
       "...                                          ...   \n",
       "19105                                         19   \n",
       "19106                                         20   \n",
       "19107                                          6   \n",
       "19108                                         24   \n",
       "19109                                         26   \n",
       "\n",
       "       over_start_batsman_on_strike_balls_faced  \\\n",
       "0                                             0   \n",
       "1                                             3   \n",
       "2                                             6   \n",
       "3                                             0   \n",
       "4                                             2   \n",
       "...                                         ...   \n",
       "19105                                        36   \n",
       "19106                                         1   \n",
       "19107                                        21   \n",
       "19108                                        11   \n",
       "19109                                        15   \n",
       "\n",
       "       over_start_batsman_offstrike_runs  over_start_batsman_onstrike_runs  \\\n",
       "0                                      0                                 0   \n",
       "1                                      1                                 4   \n",
       "2                                      0                                 6   \n",
       "3                                      0                                 0   \n",
       "4                                      0                                 0   \n",
       "...                                  ...                               ...   \n",
       "19105                                 20                                46   \n",
       "19106                                 21                                 1   \n",
       "19107                                  2                                22   \n",
       "19108                                 26                                 8   \n",
       "19109                                 27                                14   \n",
       "\n",
       "       ...  bat_off_str_4s  bat_off_str_6s  bat_off_str_Mat  bat_off_str_Inns  \\\n",
       "0      ...      114.000000       35.000000        35.000000         35.000000   \n",
       "1      ...      114.000000       35.000000        35.000000         35.000000   \n",
       "2      ...       69.178322       28.380821        36.585675         32.818811   \n",
       "3      ...       14.000000        4.000000         8.000000          8.000000   \n",
       "4      ...      105.000000       51.000000        52.000000         51.000000   \n",
       "...    ...             ...             ...              ...               ...   \n",
       "19105  ...       10.000000        2.000000         2.000000          2.000000   \n",
       "19106  ...       10.000000        2.000000         2.000000          2.000000   \n",
       "19107  ...        1.000000        1.000000         2.000000          2.000000   \n",
       "19108  ...       10.000000        2.000000         2.000000          2.000000   \n",
       "19109  ...       10.000000        2.000000         2.000000          2.000000   \n",
       "\n",
       "       bat_off_str_NO  bat_off_str_Runs  bat_off_str_HS  bat_off_str_BF  \\\n",
       "0            5.000000       1092.000000      116.000000        797.0000   \n",
       "1            5.000000       1092.000000      116.000000        797.0000   \n",
       "2            5.740116        771.773217       69.867867        589.3779   \n",
       "3            1.000000        129.000000       72.000000        101.0000   \n",
       "4           10.000000       1225.000000       85.000000        914.0000   \n",
       "...               ...               ...             ...             ...   \n",
       "19105        0.000000        104.000000       63.000000         78.0000   \n",
       "19106        0.000000        104.000000       63.000000         78.0000   \n",
       "19107        0.000000         15.000000       14.000000         10.0000   \n",
       "19108        0.000000        104.000000       63.000000         78.0000   \n",
       "19109        0.000000        104.000000       63.000000         78.0000   \n",
       "\n",
       "       y_is_wicket_fallen  match_num  \n",
       "0                       0        468  \n",
       "1                       1        468  \n",
       "2                       1        468  \n",
       "3                       1        468  \n",
       "4                       0        468  \n",
       "...                   ...        ...  \n",
       "19105                   1        665  \n",
       "19106                   0        665  \n",
       "19107                   0        665  \n",
       "19108                   0        665  \n",
       "19109                   0        665  \n",
       "\n",
       "[19110 rows x 60 columns]"
      ]
     },
     "execution_count": 5,
     "metadata": {},
     "output_type": "execute_result"
    }
   ],
   "source": [
    "df_matches = df_matches[['date','over_start_bowler_balls_bowled',\n",
    "       'over_start_bowler_wickets_taken', 'over_start_bowler_runs_given',\n",
    "       'over_start_batsman_on_strike_fours',\n",
    "       'over_start_batsman_on_strike_sixers',\n",
    "       'over_start_batsman_off_strike_balls_faced',\n",
    "       'over_start_batsman_on_strike_balls_faced',\n",
    "       'over_start_batsman_offstrike_runs', 'over_start_batsman_onstrike_runs',\n",
    "       'innings','target', 'req_run_rate',\n",
    "       'over_start_run_rate', 'over_start_total_score',\n",
    "       'over_start_total_wickets_fallen', 'over','wickets_fallen', 'sixers', 'fours', 'total_runs','bat_on_str_Ave', 'bat_on_str_SR', 'bat_on_str_100', 'bat_on_str_50',\n",
    "       'bat_on_str_0', 'bat_on_str_4s', 'bat_on_str_6s', 'bat_on_str_Mat',\n",
    "       'bat_on_str_Inns', 'bat_on_str_NO', 'bat_on_str_Runs', 'bat_on_str_HS',\n",
    "       'bat_on_str_BF', 'bowler_Mat', 'bowler_Inns', 'bowler_Overs',\n",
    "       'bowler_Mdns', 'bowler_Runs', 'bowler_Wkts', 'bowler_Ave',\n",
    "       'bowler_Econ', 'bowler_SR', 'bowler_4w', 'bowler_5w', 'bat_off_str_Ave',\n",
    "       'bat_off_str_SR', 'bat_off_str_100','bat_off_str_50', 'bat_off_str_0', 'bat_off_str_4s', 'bat_off_str_6s',\n",
    "       'bat_off_str_Mat', 'bat_off_str_Inns', 'bat_off_str_NO',\n",
    "       'bat_off_str_Runs', 'bat_off_str_HS', 'bat_off_str_BF','y_is_wicket_fallen', 'match_num',]]\n",
    "\n",
    "df_matches"
   ]
  },
  {
   "cell_type": "code",
   "execution_count": 6,
   "metadata": {},
   "outputs": [
    {
     "name": "stdout",
     "output_type": "stream",
     "text": [
      "<class 'pandas.core.frame.DataFrame'>\n",
      "RangeIndex: 19110 entries, 0 to 19109\n",
      "Data columns (total 60 columns):\n",
      " #   Column                                     Non-Null Count  Dtype         \n",
      "---  ------                                     --------------  -----         \n",
      " 0   date                                       19110 non-null  datetime64[ns]\n",
      " 1   over_start_bowler_balls_bowled             19110 non-null  int64         \n",
      " 2   over_start_bowler_wickets_taken            19110 non-null  int64         \n",
      " 3   over_start_bowler_runs_given               19110 non-null  int64         \n",
      " 4   over_start_batsman_on_strike_fours         19110 non-null  int64         \n",
      " 5   over_start_batsman_on_strike_sixers        19110 non-null  int64         \n",
      " 6   over_start_batsman_off_strike_balls_faced  19110 non-null  int64         \n",
      " 7   over_start_batsman_on_strike_balls_faced   19110 non-null  int64         \n",
      " 8   over_start_batsman_offstrike_runs          19110 non-null  int64         \n",
      " 9   over_start_batsman_onstrike_runs           19110 non-null  int64         \n",
      " 10  innings                                    19110 non-null  int64         \n",
      " 11  target                                     19110 non-null  int64         \n",
      " 12  req_run_rate                               19110 non-null  float64       \n",
      " 13  over_start_run_rate                        19110 non-null  float64       \n",
      " 14  over_start_total_score                     19110 non-null  int64         \n",
      " 15  over_start_total_wickets_fallen            19110 non-null  int64         \n",
      " 16  over                                       19110 non-null  int64         \n",
      " 17  wickets_fallen                             19110 non-null  float64       \n",
      " 18  sixers                                     19110 non-null  float64       \n",
      " 19  fours                                      19110 non-null  float64       \n",
      " 20  total_runs                                 19110 non-null  float64       \n",
      " 21  bat_on_str_Ave                             19110 non-null  float64       \n",
      " 22  bat_on_str_SR                              19110 non-null  float64       \n",
      " 23  bat_on_str_100                             19110 non-null  float64       \n",
      " 24  bat_on_str_50                              19110 non-null  float64       \n",
      " 25  bat_on_str_0                               19110 non-null  float64       \n",
      " 26  bat_on_str_4s                              19110 non-null  float64       \n",
      " 27  bat_on_str_6s                              19110 non-null  float64       \n",
      " 28  bat_on_str_Mat                             19110 non-null  float64       \n",
      " 29  bat_on_str_Inns                            19110 non-null  float64       \n",
      " 30  bat_on_str_NO                              19110 non-null  float64       \n",
      " 31  bat_on_str_Runs                            19110 non-null  float64       \n",
      " 32  bat_on_str_HS                              19110 non-null  float64       \n",
      " 33  bat_on_str_BF                              19110 non-null  float64       \n",
      " 34  bowler_Mat                                 19110 non-null  float64       \n",
      " 35  bowler_Inns                                19110 non-null  float64       \n",
      " 36  bowler_Overs                               19110 non-null  float64       \n",
      " 37  bowler_Mdns                                19110 non-null  float64       \n",
      " 38  bowler_Runs                                19110 non-null  float64       \n",
      " 39  bowler_Wkts                                19110 non-null  float64       \n",
      " 40  bowler_Ave                                 19110 non-null  float64       \n",
      " 41  bowler_Econ                                19110 non-null  float64       \n",
      " 42  bowler_SR                                  19110 non-null  float64       \n",
      " 43  bowler_4w                                  19110 non-null  float64       \n",
      " 44  bowler_5w                                  19110 non-null  float64       \n",
      " 45  bat_off_str_Ave                            19110 non-null  float64       \n",
      " 46  bat_off_str_SR                             19110 non-null  float64       \n",
      " 47  bat_off_str_100                            19110 non-null  float64       \n",
      " 48  bat_off_str_50                             19110 non-null  float64       \n",
      " 49  bat_off_str_0                              19110 non-null  float64       \n",
      " 50  bat_off_str_4s                             19110 non-null  float64       \n",
      " 51  bat_off_str_6s                             19110 non-null  float64       \n",
      " 52  bat_off_str_Mat                            19110 non-null  float64       \n",
      " 53  bat_off_str_Inns                           19110 non-null  float64       \n",
      " 54  bat_off_str_NO                             19110 non-null  float64       \n",
      " 55  bat_off_str_Runs                           19110 non-null  float64       \n",
      " 56  bat_off_str_HS                             19110 non-null  float64       \n",
      " 57  bat_off_str_BF                             19110 non-null  float64       \n",
      " 58  y_is_wicket_fallen                         19110 non-null  int64         \n",
      " 59  match_num                                  19110 non-null  int64         \n",
      "dtypes: datetime64[ns](1), float64(43), int64(16)\n",
      "memory usage: 8.7 MB\n"
     ]
    }
   ],
   "source": [
    "df_matches['date'] = pd.to_datetime(df_matches['date'])\n",
    "df_matches.info()\n"
   ]
  },
  {
   "cell_type": "code",
   "execution_count": 7,
   "metadata": {},
   "outputs": [],
   "source": [
    "# Filter the DataFrame for values greater than a specific date\n",
    "specific_date = pd.to_datetime('2017-01-01')\n",
    "df_matches = df_matches[df_matches['date'] > specific_date]"
   ]
  },
  {
   "cell_type": "code",
   "execution_count": 8,
   "metadata": {},
   "outputs": [],
   "source": [
    "df_final = df_matches[['date','over_start_bowler_balls_bowled',\n",
    "       'over_start_bowler_wickets_taken', 'over_start_bowler_runs_given',\n",
    "       'over_start_batsman_on_strike_fours',\n",
    "       'over_start_batsman_on_strike_sixers',\n",
    "       'over_start_batsman_off_strike_balls_faced',\n",
    "       'over_start_batsman_on_strike_balls_faced',\n",
    "       'over_start_batsman_offstrike_runs', 'over_start_batsman_onstrike_runs',\n",
    "       'innings', 'target', 'req_run_rate','over_start_run_rate',\n",
    "       'over_start_total_score','over_start_total_wickets_fallen', 'over','wickets_fallen', 'sixers', 'fours', 'total_runs','bat_on_str_Ave',\n",
    "       'bat_on_str_SR', 'bat_on_str_100', 'bat_on_str_50', 'bat_on_str_0',\n",
    "       'bat_on_str_4s', 'bat_on_str_6s', 'bat_on_str_Mat', 'bat_on_str_Inns',\n",
    "       'bat_on_str_NO', 'bat_on_str_Runs', 'bat_on_str_HS', 'bat_on_str_BF',\n",
    "       'bowler_Mat', 'bowler_Inns', 'bowler_Overs', 'bowler_Mdns',\n",
    "       'bowler_Runs', 'bowler_Wkts', 'bowler_Ave', 'bowler_Econ', 'bowler_SR',\n",
    "       'bowler_4w', 'bowler_5w', 'bat_off_str_Ave', 'bat_off_str_SR',\n",
    "       'bat_off_str_100', 'bat_off_str_50', 'bat_off_str_0', 'bat_off_str_4s',\n",
    "       'bat_off_str_6s', 'bat_off_str_Mat', 'bat_off_str_Inns',\n",
    "       'bat_off_str_NO', 'bat_off_str_Runs', 'bat_off_str_HS',\n",
    "       'bat_off_str_BF','y_is_wicket_fallen','match_num']]"
   ]
  },
  {
   "cell_type": "code",
   "execution_count": 9,
   "metadata": {},
   "outputs": [],
   "source": [
    "cols_to_scale = ['over_start_bowler_balls_bowled', 'over_start_bowler_wickets_taken',\n",
    "       'over_start_bowler_runs_given', 'over_start_batsman_on_strike_fours',\n",
    "       'over_start_batsman_on_strike_sixers',\n",
    "       'over_start_batsman_off_strike_balls_faced',\n",
    "       'over_start_batsman_on_strike_balls_faced',\n",
    "       'over_start_batsman_offstrike_runs', 'over_start_batsman_onstrike_runs',\n",
    "       'over_start_run_rate', 'target', 'req_run_rate', 'over_start_total_score',\n",
    "       'over_start_total_wickets_fallen', 'over','wickets_fallen', 'sixers', 'fours','bat_on_str_Ave',\n",
    "       'bat_on_str_SR', 'bat_on_str_100', 'bat_on_str_50', 'bat_on_str_0',\n",
    "       'bat_on_str_4s', 'bat_on_str_6s', 'bat_on_str_Mat', 'bat_on_str_Inns',\n",
    "       'bat_on_str_NO', 'bat_on_str_Runs', 'bat_on_str_HS', 'bat_on_str_BF',\n",
    "       'bowler_Mat', 'bowler_Inns', 'bowler_Overs', 'bowler_Mdns',\n",
    "       'bowler_Runs', 'bowler_Wkts', 'bowler_Ave', 'bowler_Econ', 'bowler_SR',\n",
    "       'bowler_4w', 'bowler_5w', 'bat_off_str_Ave', 'bat_off_str_SR',\n",
    "       'bat_off_str_100', 'bat_off_str_50', 'bat_off_str_0', 'bat_off_str_4s',\n",
    "       'bat_off_str_6s', 'bat_off_str_Mat', 'bat_off_str_Inns',\n",
    "       'bat_off_str_NO', 'bat_off_str_Runs', 'bat_off_str_HS',\n",
    "       'bat_off_str_BF',]\n"
   ]
  },
  {
   "cell_type": "code",
   "execution_count": 10,
   "metadata": {},
   "outputs": [],
   "source": [
    "## Adding the TTE And Uncencored Columns"
   ]
  },
  {
   "cell_type": "code",
   "execution_count": null,
   "metadata": {},
   "outputs": [],
   "source": [
    "import numpy as np\n",
    "df_final.insert(loc=len(df_final.columns), column='time_to_event', value=np.ones(len(df_final)))\n",
    "df_final.insert(loc=len(df_final.columns), column='uncencored', value=np.ones(len(df_final)))\n"
   ]
  },
  {
   "cell_type": "code",
   "execution_count": null,
   "metadata": {},
   "outputs": [],
   "source": [
    "match_list = df_matches['match_num'].unique()\n",
    "match_list_1 =match_list[0:1] \n",
    "match_list_1"
   ]
  },
  {
   "cell_type": "code",
   "execution_count": null,
   "metadata": {},
   "outputs": [],
   "source": []
  },
  {
   "cell_type": "code",
   "execution_count": null,
   "metadata": {},
   "outputs": [],
   "source": [
    "\n",
    "\n",
    "for match in match_list:\n",
    "    print(\"In new Match\" , match)\n",
    "    for i in range(1,3):\n",
    "        print(\"In new Innings\" , i)\n",
    "        innings_df = df_final[(df_final['match_num'] == match) & (df_final['innings'] == i)]\n",
    "        event_index = innings_df.index[innings_df['y_is_wicket_fallen'] == 1]\n",
    "        print(event_index)\n",
    "        next_wicket_index = 0\n",
    "\n",
    "        print(type(event_index))\n",
    "        event_index = np.append(event_index,innings_df.index[len(innings_df.index)-1])\n",
    "        # if len(event_index) == 0:\n",
    "        #     event_index = np.append(event_index,innings_df.index[len(innings_df.index)-1])\n",
    "        #     print(\"Empty event index replaced by \",event_index)\n",
    "\n",
    "\n",
    "        for index in innings_df.index:\n",
    "            #print(index)\n",
    "            \n",
    "            #print(df_final[(df_final['match_num'] == match) & (df_final['innings'] == i)]['y_is_wicket_fallen'][index])\n",
    "            df_final['time_to_event'][index] = event_index[next_wicket_index] - index\n",
    "            print(df_final['time_to_event'][index])\n",
    "            print('tte is ' , event_index[next_wicket_index] - index)\n",
    "            if index == event_index[next_wicket_index]:\n",
    "                next_wicket_index = next_wicket_index +1"
   ]
  },
  {
   "cell_type": "code",
   "execution_count": null,
   "metadata": {},
   "outputs": [],
   "source": [
    "df_final"
   ]
  },
  {
   "cell_type": "code",
   "execution_count": null,
   "metadata": {},
   "outputs": [],
   "source": [
    "df_final['time_to_event'] = df_final['time_to_event'].apply(lambda x: x + 1)\n"
   ]
  },
  {
   "cell_type": "code",
   "execution_count": null,
   "metadata": {},
   "outputs": [],
   "source": [
    "df_final.columns"
   ]
  },
  {
   "cell_type": "code",
   "execution_count": null,
   "metadata": {},
   "outputs": [],
   "source": [
    "df_final"
   ]
  },
  {
   "cell_type": "code",
   "execution_count": null,
   "metadata": {},
   "outputs": [],
   "source": []
  },
  {
   "cell_type": "code",
   "execution_count": null,
   "metadata": {},
   "outputs": [],
   "source": [
    "train_test_Date = pd.to_datetime('2022-01-01')\n"
   ]
  },
  {
   "cell_type": "code",
   "execution_count": null,
   "metadata": {},
   "outputs": [],
   "source": [
    "from sklearn.model_selection import train_test_split\n",
    "X_train = df_final[df_final['date'] <= train_test_Date]\n"
   ]
  },
  {
   "cell_type": "code",
   "execution_count": null,
   "metadata": {},
   "outputs": [],
   "source": [
    "pd.set_option('display.max_columns', None)\n"
   ]
  },
  {
   "cell_type": "code",
   "execution_count": null,
   "metadata": {},
   "outputs": [],
   "source": [
    "X_train"
   ]
  },
  {
   "cell_type": "code",
   "execution_count": null,
   "metadata": {},
   "outputs": [],
   "source": [
    "test_Date = pd.to_datetime('2022-01-01')\n",
    "X_test  =  df_final[df_final['date'] > test_Date]\n",
    "X_test"
   ]
  },
  {
   "cell_type": "code",
   "execution_count": null,
   "metadata": {},
   "outputs": [],
   "source": [
    "df_matches.columns"
   ]
  },
  {
   "cell_type": "code",
   "execution_count": null,
   "metadata": {},
   "outputs": [],
   "source": [
    "X_test"
   ]
  },
  {
   "cell_type": "code",
   "execution_count": null,
   "metadata": {},
   "outputs": [],
   "source": [
    "X_train"
   ]
  },
  {
   "cell_type": "code",
   "execution_count": null,
   "metadata": {},
   "outputs": [],
   "source": [
    "# df = df_matches[['req_run_rate',\n",
    "#        'over_start_run_rate', 'over_start_total_score',\n",
    "#        'over_start_total_wickets_fallen', 'total_runs','innings','over','y_is_wicket_fallen']]"
   ]
  },
  {
   "cell_type": "code",
   "execution_count": null,
   "metadata": {},
   "outputs": [],
   "source": [
    "X_train = X_train[['over_start_bowler_balls_bowled',\n",
    "       'over_start_bowler_wickets_taken', 'over_start_bowler_runs_given',\n",
    "       'over_start_batsman_on_strike_fours',\n",
    "       'over_start_batsman_on_strike_sixers',\n",
    "       'over_start_batsman_off_strike_balls_faced',\n",
    "       'over_start_batsman_on_strike_balls_faced',\n",
    "       'over_start_batsman_offstrike_runs', 'over_start_batsman_onstrike_runs','innings', 'target', 'req_run_rate', 'over_start_run_rate',\n",
    "       'over_start_total_score', 'over_start_total_wickets_fallen', 'over',\n",
    "       'sixers', 'fours','total_runs','match_num','time_to_event',\n",
    "       'uncencored']]"
   ]
  },
  {
   "cell_type": "code",
   "execution_count": null,
   "metadata": {},
   "outputs": [],
   "source": [
    "X_test = X_test[['over_start_bowler_balls_bowled',\n",
    "       'over_start_bowler_wickets_taken', 'over_start_bowler_runs_given',\n",
    "       'over_start_batsman_on_strike_fours',\n",
    "       'over_start_batsman_on_strike_sixers',\n",
    "       'over_start_batsman_off_strike_balls_faced',\n",
    "       'over_start_batsman_on_strike_balls_faced',\n",
    "       'over_start_batsman_offstrike_runs', 'over_start_batsman_onstrike_runs','innings', 'target', 'req_run_rate', 'over_start_run_rate',\n",
    "       'over_start_total_score', 'over_start_total_wickets_fallen', 'over',\n",
    "       'sixers', 'fours','total_runs','match_num','time_to_event',\n",
    "       'uncencored']]"
   ]
  },
  {
   "cell_type": "code",
   "execution_count": null,
   "metadata": {},
   "outputs": [],
   "source": [
    "cols_to_scale = ['over_start_bowler_balls_bowled',\n",
    "       'over_start_bowler_wickets_taken', 'over_start_bowler_runs_given',\n",
    "       'over_start_batsman_on_strike_fours',\n",
    "       'over_start_batsman_on_strike_sixers',\n",
    "       'over_start_batsman_off_strike_balls_faced',\n",
    "       'over_start_batsman_on_strike_balls_faced',\n",
    "       'over_start_batsman_offstrike_runs', 'over_start_batsman_onstrike_runs', 'target', 'req_run_rate', 'over_start_run_rate',\n",
    "       'over_start_total_score', 'over_start_total_wickets_fallen', 'over',\n",
    "       'sixers', 'fours','total_runs']"
   ]
  },
  {
   "cell_type": "code",
   "execution_count": null,
   "metadata": {},
   "outputs": [],
   "source": [
    "from sklearn.preprocessing import StandardScaler\n",
    "scaler = StandardScaler()\n",
    "X_train[cols_to_scale] = scaler.fit_transform(X_train[cols_to_scale])\n",
    "X_test[cols_to_scale] = scaler.transform(X_test[cols_to_scale])"
   ]
  },
  {
   "cell_type": "code",
   "execution_count": null,
   "metadata": {},
   "outputs": [],
   "source": [
    "X_test"
   ]
  },
  {
   "cell_type": "code",
   "execution_count": null,
   "metadata": {},
   "outputs": [],
   "source": [
    "X_train"
   ]
  },
  {
   "cell_type": "code",
   "execution_count": null,
   "metadata": {},
   "outputs": [],
   "source": [
    "train_match_list = X_train['match_num'].unique()\n",
    "train_match_list"
   ]
  },
  {
   "cell_type": "code",
   "execution_count": null,
   "metadata": {},
   "outputs": [],
   "source": []
  },
  {
   "cell_type": "code",
   "execution_count": null,
   "metadata": {},
   "outputs": [],
   "source": [
    "X_train_rnn = []\n",
    "y_train_rnn = []\n",
    "\n",
    "#Tracking down 5 previous overs\n",
    "\n",
    "for match in train_match_list:\n",
    "    print(\"In new Match\" , match)\n",
    "    for i in range(1,3):\n",
    "        print(\"In new Innings\" , i)\n",
    "        innings_df = X_train[(X_train['match_num'] == match) & (X_train['innings'] == i)]\n",
    "        print(len(innings_df))\n",
    "        \n",
    "        for over in range(5,len(innings_df)):\n",
    "            \n",
    "            X_train_rnn.append(innings_df.reset_index(drop=True).loc[over-5:over-1, 'over_start_bowler_balls_bowled':'total_runs'])\n",
    "            y_train_rnn.append(innings_df.reset_index(drop=True).loc[over,  'time_to_event':'uncencored'])\n",
    "\n",
    "        "
   ]
  },
  {
   "cell_type": "code",
   "execution_count": null,
   "metadata": {},
   "outputs": [],
   "source": [
    "test_match_list = X_test['match_num'].unique()\n",
    "test_match_list"
   ]
  },
  {
   "cell_type": "code",
   "execution_count": null,
   "metadata": {},
   "outputs": [],
   "source": [
    "X_train"
   ]
  },
  {
   "cell_type": "code",
   "execution_count": null,
   "metadata": {},
   "outputs": [],
   "source": [
    "X_test"
   ]
  },
  {
   "cell_type": "code",
   "execution_count": null,
   "metadata": {},
   "outputs": [],
   "source": [
    "X_test_rnn = []\n",
    "y_test_rnn = []\n",
    "\n",
    "#Tracking down 5 previous overs\n",
    "\n",
    "for match in test_match_list:\n",
    "    print(\"In new Match\" , match)\n",
    "    for i in range(1,3):\n",
    "        print(\"In new Innings\" , i)\n",
    "        innings_df = X_test[(X_test['match_num'] == match) & (X_test['innings'] == i)]\n",
    "        print(len(innings_df))\n",
    "        \n",
    "        for over in range(5,len(innings_df)):\n",
    "            X_test_rnn.append(innings_df.reset_index(drop=True).loc[over-5:over-1, 'over_start_bowler_balls_bowled':'total_runs'])\n",
    "            y_test_rnn.append(innings_df.reset_index(drop=True).loc[over, 'time_to_event':'uncencored'])\n",
    "\n",
    "        "
   ]
  },
  {
   "cell_type": "code",
   "execution_count": null,
   "metadata": {},
   "outputs": [],
   "source": [
    "\n",
    "# X_test_rnn = []\n",
    "# y_test_rnn = []\n",
    "\n",
    "# for over in range(5,len(X_test)):\n",
    "            \n",
    "#     X_test_rnn.append(X_test.reset_index(drop=True).loc[over-5:over-1, 'req_run_rate':'over'])\n",
    "#     y_test_rnn.append(X_test.reset_index(drop=True).loc[over, 'time_to_event':'uncencored'])"
   ]
  },
  {
   "cell_type": "code",
   "execution_count": null,
   "metadata": {},
   "outputs": [],
   "source": [
    "# X_train_rnn = []\n",
    "# y_train_rnn = []\n",
    "\n",
    "# for over in range(5,len(df)):\n",
    "            \n",
    "#     X_train_rnn.append(df.reset_index(drop=True).loc[over-5:over-1, 'req_run_rate':'over'])\n",
    "#     y_train_rnn.append(df.reset_index(drop=True).loc[over, 'time_to_event':'uncencored'])"
   ]
  },
  {
   "cell_type": "code",
   "execution_count": null,
   "metadata": {},
   "outputs": [],
   "source": [
    "X_train_rnn , y_train_rnn = np.array(X_train_rnn).astype('float32') , np.array(y_train_rnn).astype('float32')\n",
    "X_test_rnn , y_test_rnn = np.array(X_test_rnn).astype('float32') , np.array(y_test_rnn).astype('float32')"
   ]
  },
  {
   "cell_type": "code",
   "execution_count": null,
   "metadata": {},
   "outputs": [],
   "source": [
    "X_train_rnn.shape"
   ]
  },
  {
   "cell_type": "code",
   "execution_count": null,
   "metadata": {},
   "outputs": [],
   "source": [
    "y_train_rnn.shape"
   ]
  },
  {
   "cell_type": "code",
   "execution_count": null,
   "metadata": {},
   "outputs": [],
   "source": [
    "X_test_rnn.shape"
   ]
  },
  {
   "cell_type": "code",
   "execution_count": null,
   "metadata": {},
   "outputs": [],
   "source": [
    "y_test_rnn.shape"
   ]
  },
  {
   "cell_type": "code",
   "execution_count": null,
   "metadata": {},
   "outputs": [],
   "source": [
    "X_train"
   ]
  },
  {
   "cell_type": "code",
   "execution_count": null,
   "metadata": {},
   "outputs": [],
   "source": [
    "X_test"
   ]
  },
  {
   "cell_type": "code",
   "execution_count": null,
   "metadata": {},
   "outputs": [],
   "source": []
  },
  {
   "attachments": {},
   "cell_type": "markdown",
   "metadata": {},
   "source": [
    "### Building the Model\n"
   ]
  },
  {
   "cell_type": "code",
   "execution_count": null,
   "metadata": {},
   "outputs": [],
   "source": []
  },
  {
   "cell_type": "code",
   "execution_count": null,
   "metadata": {},
   "outputs": [],
   "source": [
    "%matplotlib inline\n",
    "from __future__ import absolute_import\n",
    "from __future__ import division\n",
    "from __future__ import print_function\n",
    "\n",
    "from six.moves import xrange\n",
    "import numpy as np\n",
    "import matplotlib.pyplot as plt\n",
    "\n",
    "from keras.models import Sequential\n",
    "from keras.layers import Dense\n",
    "\n",
    "from keras.layers import LSTM,GRU\n",
    "from keras.layers import Lambda\n",
    "from keras.layers import TimeDistributed\n",
    "\n",
    "from keras.optimizers import RMSprop,adam\n",
    "from keras.callbacks import History\n",
    "\n",
    "import wtte.weibull as weibull\n",
    "import wtte.wtte as wtte\n",
    "\n",
    "from wtte.wtte import WeightWatcher\n",
    "\n",
    "np.random.seed(2)"
   ]
  },
  {
   "cell_type": "code",
   "execution_count": null,
   "metadata": {},
   "outputs": [],
   "source": [
    "from wtte.wtte import WeightWatcher\n",
    "from keras.layers import Lambda, GRU\n",
    "from keras.callbacks import EarlyStopping, History, TerminateOnNaN\n",
    "from keras.layers import Dropout, BatchNormalization, LSTM, Dense\n",
    "from keras.regularizers import l2\n",
    "from keras.optimizers import Adam\n",
    "from keras.models import Sequential\n",
    "from keras import regularizers\n",
    "from keras.layers import Activation\n",
    "from keras import backend as k\n"
   ]
  },
  {
   "cell_type": "code",
   "execution_count": null,
   "metadata": {},
   "outputs": [],
   "source": [
    "X_train_rnn.shape"
   ]
  },
  {
   "cell_type": "code",
   "execution_count": null,
   "metadata": {},
   "outputs": [],
   "source": [
    "y_train_rnn.shape"
   ]
  },
  {
   "cell_type": "code",
   "execution_count": null,
   "metadata": {},
   "outputs": [],
   "source": [
    "X_train = X_train_rnn\n",
    "y_train  = y_train_rnn"
   ]
  },
  {
   "cell_type": "code",
   "execution_count": null,
   "metadata": {},
   "outputs": [],
   "source": [
    "y_train_rnn.shape"
   ]
  },
  {
   "cell_type": "code",
   "execution_count": null,
   "metadata": {},
   "outputs": [],
   "source": [
    "print(X_train.shape)\n",
    "print(y_train.shape)"
   ]
  },
  {
   "cell_type": "code",
   "execution_count": null,
   "metadata": {},
   "outputs": [],
   "source": [
    "print(X_test_rnn.shape)\n",
    "print(y_test_rnn.shape)"
   ]
  },
  {
   "cell_type": "code",
   "execution_count": null,
   "metadata": {},
   "outputs": [],
   "source": [
    "def weibull_loglik_discrete(y_true, ab_pred, name=None):\n",
    "    y_ = y_true[:, 0]\n",
    "    u_ = y_true[:, 1]\n",
    "    a_ = ab_pred[:, 0]\n",
    "    b_ = ab_pred[:, 1]\n",
    "\n",
    "    hazard0 = k.pow((y_ + 1e-35) / a_, b_)\n",
    "    hazard1 = k.pow((y_ + 1) / a_, b_)\n",
    "\n",
    "    return -1 * k.mean(u_ * k.log(k.exp(hazard1 - hazard0) - 1.0 + k.epsilon()) - hazard1)\n",
    "\n",
    "def activate(ab):\n",
    "    a = k.exp(ab[:, 0])\n",
    "    b = k.softplus(ab[:, 1])\n",
    "\n",
    "    a = k.reshape(a, (k.shape(a)[0], 1))\n",
    "    b = k.reshape(b, (k.shape(b)[0], 1))\n",
    "\n",
    "    return k.concatenate((a, b), axis=1)"
   ]
  },
  {
   "cell_type": "code",
   "execution_count": null,
   "metadata": {},
   "outputs": [],
   "source": [
    "# Paramaeters for output activation layer initialization.\n",
    "# Start at naive geometric (beta=1) MLE:\n",
    "tte_mean_train = np.nanmean(y_train[:,:])\n",
    "init_alpha = -1.0/np.log(1.0-1.0/(tte_mean_train+1.0) )\n",
    "mean_u = np.nanmean(y_train[:,:])\n",
    "init_alpha = init_alpha/mean_u\n",
    "print('init_alpha: ',init_alpha,'mean uncensored: ',mean_u)\n",
    "\n",
    "### Uncomment if you have varying length sequences that is nanpadded to the right:\n",
    "# mask_value = -1.3371337 # Use some improbable but not nan-causing telltale value\n",
    "# x_train[:,:,:][np.isnan(x_train)] = mask_value\n",
    "# y_train[:,:,0][np.isnan(y_train[:,:,0])] = tte_mean_train\n",
    "# y_train[:,:,1][np.isnan(y_train[:,:,1])] = 0.5\n",
    "# sample_weights = (x_train[:,:,0]!=mask_value)*1."
   ]
  },
  {
   "cell_type": "code",
   "execution_count": null,
   "metadata": {},
   "outputs": [],
   "source": [
    "n_features = X_test_rnn.shape[2]\n",
    "n_features"
   ]
  },
  {
   "cell_type": "code",
   "execution_count": null,
   "metadata": {},
   "outputs": [],
   "source": [
    "# Define batch size and number of epochs\n",
    "epochs = 100"
   ]
  },
  {
   "cell_type": "code",
   "execution_count": null,
   "metadata": {},
   "outputs": [],
   "source": [
    "X_test_rnn.shape"
   ]
  },
  {
   "cell_type": "code",
   "execution_count": null,
   "metadata": {},
   "outputs": [],
   "source": [
    "X_test_val_rnn = X_test_rnn[-500:]\n",
    "y_test_val_rnn = y_test_rnn[-500:]"
   ]
  },
  {
   "cell_type": "code",
   "execution_count": null,
   "metadata": {},
   "outputs": [],
   "source": [
    "print(X_test_val_rnn.shape)\n",
    "print(y_test_val_rnn.shape)"
   ]
  },
  {
   "cell_type": "code",
   "execution_count": null,
   "metadata": {},
   "outputs": [],
   "source": [
    "# validation_data=(X_test_rnn, y_test_rnn),"
   ]
  },
  {
   "cell_type": "code",
   "execution_count": null,
   "metadata": {},
   "outputs": [],
   "source": [
    "# Initialize callbacks\n",
    "history = History()\n",
    "weight_watcher = WeightWatcher()\n",
    "nanterminator = TerminateOnNaN()\n",
    "\n",
    "early_stopping = EarlyStopping(monitor='val_loss', patience=15, restore_best_weights=True)\n",
    "\n",
    "# Define model\n",
    "model = Sequential()\n",
    "\n",
    "# First LSTM layer with Dropout\n",
    "model.add(LSTM(64, input_shape=(None, n_features), activation='tanh', return_sequences=False))\n",
    "# Output layer\n",
    "model.add(Dense(2))\n",
    "model.add(Activation(activate))\n",
    "\n",
    "\n",
    "# Loss function\n",
    "loss = wtte.loss(kind='discrete', reduce_loss=False).loss_function\n",
    "\n",
    "# Compile model\n",
    "model.compile(loss=weibull_loglik_discrete, optimizer=Adam(learning_rate=.01, clipvalue=1.0))\n",
    "\n",
    "# Print model summary\n",
    "model.summary()\n",
    "\n",
    "# Train the model\n",
    "history = model.fit(X_train_rnn, y_train_rnn, epochs=epochs,\n",
    "                    validation_data=(X_test_val_rnn, y_test_val_rnn),\n",
    "                    batch_size=100,\n",
    "                    callbacks=[early_stopping, weight_watcher])"
   ]
  },
  {
   "cell_type": "code",
   "execution_count": null,
   "metadata": {},
   "outputs": [],
   "source": [
    "plt.plot(history.history['loss'],    label='training')\n",
    "plt.plot(history.history['val_loss'],label='validation')\n",
    "plt.title('loss')\n",
    "plt.legend()"
   ]
  },
  {
   "cell_type": "code",
   "execution_count": null,
   "metadata": {},
   "outputs": [],
   "source": []
  },
  {
   "cell_type": "code",
   "execution_count": null,
   "metadata": {},
   "outputs": [],
   "source": [
    "test_predict = model.predict(X_test_rnn)"
   ]
  },
  {
   "cell_type": "code",
   "execution_count": null,
   "metadata": {},
   "outputs": [],
   "source": [
    "test_predict.shape"
   ]
  },
  {
   "cell_type": "code",
   "execution_count": null,
   "metadata": {},
   "outputs": [],
   "source": [
    "y_test_rnn"
   ]
  },
  {
   "cell_type": "code",
   "execution_count": null,
   "metadata": {},
   "outputs": [],
   "source": [
    "from six.moves import xrange\n",
    "drawstyle = 'steps-post'\n",
    "\n",
    "a = test_predict[:,0]\n",
    "b = test_predict[:,1]\n",
    "t = np.array(xrange(len(a)))\n",
    "\n",
    "# Plotting test_predict against test_y\n",
    "plt.figure(figsize=(8, 6))\n",
    "plt.plot(y_test_rnn[:, 0], label='True')\n",
    "# plt.plot(test_predict[:10000, 0], color='yellow', label='Predicted')\n",
    "plt.plot(weibull.quantiles(a,b,0.75),color='blue',label='pred <0.75',drawstyle=drawstyle)\n",
    "plt.plot(weibull.mode(a, b), color='red',linewidth=1,label='pred mode/peak prob',drawstyle=drawstyle)\n",
    "plt.plot(weibull.mean(a, b), color='green',linewidth=1,label='pred mean',drawstyle='steps-post')\n",
    "plt.plot(weibull.quantiles(a,b,0.25),color='blue',label='pred <0.25',drawstyle=drawstyle)\n",
    "plt.xlabel('Time Steps')\n",
    "plt.ylabel('Output Value')\n",
    "plt.legend()\n",
    "plt.show()\n",
    "\n",
    "plt.figure(figsize=(8, 6))\n",
    "plt.scatter(y_test_rnn[:, 0], weibull.mean(a, b))\n",
    "plt.xlabel('Observed Time')\n",
    "plt.ylabel('Predicted Mean Time')\n",
    "plt.show()"
   ]
  },
  {
   "cell_type": "code",
   "execution_count": null,
   "metadata": {},
   "outputs": [],
   "source": [
    "plt.plot(a,drawstyle='steps-post')\n",
    "plt.title('predicted alpha')\n",
    "plt.show()\n",
    "plt.plot(b,drawstyle='steps-post')\n",
    "plt.title('predicted beta')\n",
    "plt.show()"
   ]
  },
  {
   "cell_type": "code",
   "execution_count": null,
   "metadata": {},
   "outputs": [],
   "source": [
    "test_predict"
   ]
  },
  {
   "cell_type": "code",
   "execution_count": null,
   "metadata": {},
   "outputs": [],
   "source": []
  },
  {
   "cell_type": "code",
   "execution_count": null,
   "metadata": {},
   "outputs": [],
   "source": []
  },
  {
   "cell_type": "code",
   "execution_count": null,
   "metadata": {},
   "outputs": [],
   "source": []
  },
  {
   "cell_type": "code",
   "execution_count": null,
   "metadata": {},
   "outputs": [],
   "source": []
  },
  {
   "cell_type": "code",
   "execution_count": null,
   "metadata": {},
   "outputs": [],
   "source": []
  },
  {
   "cell_type": "code",
   "execution_count": null,
   "metadata": {},
   "outputs": [],
   "source": [
    "df_final"
   ]
  },
  {
   "cell_type": "code",
   "execution_count": null,
   "metadata": {},
   "outputs": [],
   "source": [
    "\n",
    "# Iterate over the columns\n",
    "for column in X_train.columns:\n",
    "    # Count the number of null values in the column\n",
    "    null_count = X_train[column].isnull().sum()\n",
    "\n",
    "    # Display the column name and the number of null values\n",
    "    print(f\"Column '{column}' has {null_count} null values.\")"
   ]
  },
  {
   "cell_type": "code",
   "execution_count": null,
   "metadata": {},
   "outputs": [],
   "source": [
    "X_test"
   ]
  },
  {
   "cell_type": "code",
   "execution_count": null,
   "metadata": {},
   "outputs": [],
   "source": [
    "y_test_rnn"
   ]
  },
  {
   "cell_type": "code",
   "execution_count": null,
   "metadata": {},
   "outputs": [],
   "source": [
    "for row in y_train_rnn:\n",
    "    print(row)"
   ]
  },
  {
   "cell_type": "code",
   "execution_count": null,
   "metadata": {},
   "outputs": [],
   "source": []
  }
 ],
 "metadata": {
  "kernelspec": {
   "display_name": "machine_learning",
   "language": "python",
   "name": "python3"
  },
  "language_info": {
   "codemirror_mode": {
    "name": "ipython",
    "version": 3
   },
   "file_extension": ".py",
   "mimetype": "text/x-python",
   "name": "python",
   "nbconvert_exporter": "python",
   "pygments_lexer": "ipython3",
   "version": "3.8.13"
  },
  "orig_nbformat": 4
 },
 "nbformat": 4,
 "nbformat_minor": 2
}
