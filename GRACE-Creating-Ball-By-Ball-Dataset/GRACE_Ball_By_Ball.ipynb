{
 "cells": [
  {
   "cell_type": "code",
   "execution_count": 1,
   "metadata": {},
   "outputs": [
    {
     "name": "stdout",
     "output_type": "stream",
     "text": [
      "PRAISE THE LORD ALMIGHTY FATHER Thank You JESUS Praise You JESUS Forever May the HOLY SPIRIT Guide Us MOTHER MARY PRAY For Us SAINT JOSEPH, PRAY For Us SAINT ANTHONY PRAY For Us AMEN 🧡⛪✝ GOD BLESS !!! ✝⛪🧡⛪✝\n"
     ]
    }
   ],
   "source": [
    "print(\"PRAISE THE LORD ALMIGHTY FATHER Thank You JESUS Praise You JESUS Forever May the HOLY SPIRIT Guide Us MOTHER MARY PRAY For Us SAINT JOSEPH, PRAY For Us SAINT ANTHONY PRAY For Us AMEN 🧡⛪✝ GOD BLESS !!! ✝⛪🧡⛪✝\")"
   ]
  },
  {
   "cell_type": "code",
   "execution_count": 2,
   "metadata": {},
   "outputs": [],
   "source": [
    "import pandas as pd\n"
   ]
  },
  {
   "cell_type": "code",
   "execution_count": 3,
   "metadata": {},
   "outputs": [],
   "source": [
    "df = pd.read_csv('2022_to_2023_all_matches_master.csv')"
   ]
  },
  {
   "cell_type": "code",
   "execution_count": 5,
   "metadata": {},
   "outputs": [
    {
     "data": {
      "text/plain": [
       "Index(['Unnamed: 0', 'Unnamed: 0.2', 'Unnamed: 0.1', 'Unnamed: 0.1.1',\n",
       "       'Unnamed: 0.1.1.1', 'Unnamed: 0.1.1.1.1', 'Unnamed: 0.1.1.1.1.1',\n",
       "       'Unnamed: 0.1.1.1.1.1.1', 'year', 'over_start_bowler_balls_bowled',\n",
       "       'over_start_bowler_wickets_taken', 'over_start_bowler_runs_given',\n",
       "       'over_start_batsman_on_strike_fours',\n",
       "       'over_start_batsman_on_strike_sixers',\n",
       "       'over_start_batsman_off_strike_balls_faced',\n",
       "       'over_start_batsman_on_strike_balls_faced',\n",
       "       'over_start_batsman_offstrike_runs', 'over_start_batsman_onstrike_runs',\n",
       "       'innings', 'match_num', 'country', 'target', 'req_run_rate',\n",
       "       'over_start_run_rate', 'over_start_total_score',\n",
       "       'over_start_total_wickets_fallen', 'over', 'deliveries', 'Bowler',\n",
       "       'batter_onStrike', 'batter_offstrike', 'wickets_fallen', 'sixers',\n",
       "       'fours', 'total_runs', 'bat_on_str_Ave', 'bat_on_str_SR',\n",
       "       'bat_on_str_100', 'bat_on_str_50', 'bat_on_str_0', 'bat_on_str_4s',\n",
       "       'bat_on_str_6s', 'bat_on_str_Mat', 'bat_on_str_Inns', 'bat_on_str_NO',\n",
       "       'bat_on_str_Runs', 'bat_on_str_HS', 'bat_on_str_BF', 'bowler_Mat',\n",
       "       'bowler_Inns', 'bowler_Overs', 'bowler_Mdns', 'bowler_Runs',\n",
       "       'bowler_Wkts', 'bowler_Ave', 'bowler_Econ', 'bowler_SR', 'bowler_4w',\n",
       "       'bowler_5w', 'bat_off_str_Ave', 'bat_off_str_SR', 'bat_off_str_100',\n",
       "       'bat_off_str_50', 'bat_off_str_0', 'bat_off_str_4s', 'bat_off_str_6s',\n",
       "       'bat_off_str_Mat', 'bat_off_str_Inns', 'bat_off_str_NO',\n",
       "       'bat_off_str_Runs', 'bat_off_str_HS', 'bat_off_str_BF'],\n",
       "      dtype='object')"
      ]
     },
     "execution_count": 5,
     "metadata": {},
     "output_type": "execute_result"
    }
   ],
   "source": [
    "df.columns"
   ]
  },
  {
   "cell_type": "code",
   "execution_count": 7,
   "metadata": {},
   "outputs": [],
   "source": [
    "df_ball_by_ball = df[['innings', 'match_num', 'country', 'target', 'req_run_rate','over', 'deliveries', 'Bowler']]"
   ]
  },
  {
   "cell_type": "code",
   "execution_count": 8,
   "metadata": {},
   "outputs": [
    {
     "data": {
      "text/html": [
       "<div>\n",
       "<style scoped>\n",
       "    .dataframe tbody tr th:only-of-type {\n",
       "        vertical-align: middle;\n",
       "    }\n",
       "\n",
       "    .dataframe tbody tr th {\n",
       "        vertical-align: top;\n",
       "    }\n",
       "\n",
       "    .dataframe thead th {\n",
       "        text-align: right;\n",
       "    }\n",
       "</style>\n",
       "<table border=\"1\" class=\"dataframe\">\n",
       "  <thead>\n",
       "    <tr style=\"text-align: right;\">\n",
       "      <th></th>\n",
       "      <th>innings</th>\n",
       "      <th>match_num</th>\n",
       "      <th>country</th>\n",
       "      <th>target</th>\n",
       "      <th>req_run_rate</th>\n",
       "      <th>over</th>\n",
       "      <th>deliveries</th>\n",
       "      <th>Bowler</th>\n",
       "    </tr>\n",
       "  </thead>\n",
       "  <tbody>\n",
       "    <tr>\n",
       "      <th>0</th>\n",
       "      <td>1</td>\n",
       "      <td>468</td>\n",
       "      <td>England</td>\n",
       "      <td>210</td>\n",
       "      <td>10.500000</td>\n",
       "      <td>0</td>\n",
       "      <td>[{'batter': 'JJ Roy', 'bowler': 'Anwar Ali', '...</td>\n",
       "      <td>Anwar Ali</td>\n",
       "    </tr>\n",
       "    <tr>\n",
       "      <th>1</th>\n",
       "      <td>1</td>\n",
       "      <td>468</td>\n",
       "      <td>England</td>\n",
       "      <td>210</td>\n",
       "      <td>10.789474</td>\n",
       "      <td>1</td>\n",
       "      <td>[{'batter': 'JJ Roy', 'bowler': 'Sohail Tanvir...</td>\n",
       "      <td>Sohail Tanvir</td>\n",
       "    </tr>\n",
       "    <tr>\n",
       "      <th>2</th>\n",
       "      <td>1</td>\n",
       "      <td>468</td>\n",
       "      <td>England</td>\n",
       "      <td>210</td>\n",
       "      <td>10.777778</td>\n",
       "      <td>2</td>\n",
       "      <td>[{'batter': 'AD Hales', 'bowler': 'Anwar Ali',...</td>\n",
       "      <td>Anwar Ali</td>\n",
       "    </tr>\n",
       "    <tr>\n",
       "      <th>3</th>\n",
       "      <td>1</td>\n",
       "      <td>468</td>\n",
       "      <td>England</td>\n",
       "      <td>210</td>\n",
       "      <td>11.294118</td>\n",
       "      <td>3</td>\n",
       "      <td>[{'batter': 'JM Vince', 'bowler': 'Sohail Tanv...</td>\n",
       "      <td>Sohail Tanvir</td>\n",
       "    </tr>\n",
       "    <tr>\n",
       "      <th>4</th>\n",
       "      <td>1</td>\n",
       "      <td>468</td>\n",
       "      <td>England</td>\n",
       "      <td>210</td>\n",
       "      <td>11.937500</td>\n",
       "      <td>4</td>\n",
       "      <td>[{'batter': 'JM Vince', 'bowler': 'Anwar Ali',...</td>\n",
       "      <td>Anwar Ali</td>\n",
       "    </tr>\n",
       "  </tbody>\n",
       "</table>\n",
       "</div>"
      ],
      "text/plain": [
       "   innings  match_num  country  target  req_run_rate  over  \\\n",
       "0        1        468  England     210     10.500000     0   \n",
       "1        1        468  England     210     10.789474     1   \n",
       "2        1        468  England     210     10.777778     2   \n",
       "3        1        468  England     210     11.294118     3   \n",
       "4        1        468  England     210     11.937500     4   \n",
       "\n",
       "                                          deliveries         Bowler  \n",
       "0  [{'batter': 'JJ Roy', 'bowler': 'Anwar Ali', '...      Anwar Ali  \n",
       "1  [{'batter': 'JJ Roy', 'bowler': 'Sohail Tanvir...  Sohail Tanvir  \n",
       "2  [{'batter': 'AD Hales', 'bowler': 'Anwar Ali',...      Anwar Ali  \n",
       "3  [{'batter': 'JM Vince', 'bowler': 'Sohail Tanv...  Sohail Tanvir  \n",
       "4  [{'batter': 'JM Vince', 'bowler': 'Anwar Ali',...      Anwar Ali  "
      ]
     },
     "execution_count": 8,
     "metadata": {},
     "output_type": "execute_result"
    }
   ],
   "source": [
    "df_ball_by_ball.head()"
   ]
  },
  {
   "cell_type": "code",
   "execution_count": 10,
   "metadata": {},
   "outputs": [
    {
     "data": {
      "text/plain": [
       "\"[{'batter': 'JJ Roy', 'bowler': 'Anwar Ali', 'non_striker': 'AD Hales', 'runs': {'batter': 0, 'extras': 0, 'total': 0}}, {'batter': 'JJ Roy', 'bowler': 'Anwar Ali', 'non_striker': 'AD Hales', 'runs': {'batter': 3, 'extras': 0, 'total': 3}}, {'batter': 'AD Hales', 'bowler': 'Anwar Ali', 'non_striker': 'JJ Roy', 'runs': {'batter': 0, 'extras': 0, 'total': 0}}, {'batter': 'AD Hales', 'bowler': 'Anwar Ali', 'non_striker': 'JJ Roy', 'runs': {'batter': 0, 'extras': 0, 'total': 0}}, {'batter': 'AD Hales', 'bowler': 'Anwar Ali', 'non_striker': 'JJ Roy', 'runs': {'batter': 1, 'extras': 0, 'total': 1}}, {'batter': 'JJ Roy', 'bowler': 'Anwar Ali', 'non_striker': 'AD Hales', 'runs': {'batter': 1, 'extras': 0, 'total': 1}}]\""
      ]
     },
     "execution_count": 10,
     "metadata": {},
     "output_type": "execute_result"
    }
   ],
   "source": [
    "df_ball_by_ball['deliveries'][0]"
   ]
  },
  {
   "cell_type": "code",
   "execution_count": 11,
   "metadata": {},
   "outputs": [],
   "source": [
    "import pandas as pd\n",
    "import json\n"
   ]
  },
  {
   "cell_type": "code",
   "execution_count": 13,
   "metadata": {},
   "outputs": [
    {
     "data": {
      "text/plain": [
       "\"[{'batter': 'JJ Roy', 'bowler': 'Anwar Ali', 'non_striker': 'AD Hales', 'runs': {'batter': 0, 'extras': 0, 'total': 0}}, {'batter': 'JJ Roy', 'bowler': 'Anwar Ali', 'non_striker': 'AD Hales', 'runs': {'batter': 3, 'extras': 0, 'total': 3}}, {'batter': 'AD Hales', 'bowler': 'Anwar Ali', 'non_striker': 'JJ Roy', 'runs': {'batter': 0, 'extras': 0, 'total': 0}}, {'batter': 'AD Hales', 'bowler': 'Anwar Ali', 'non_striker': 'JJ Roy', 'runs': {'batter': 0, 'extras': 0, 'total': 0}}, {'batter': 'AD Hales', 'bowler': 'Anwar Ali', 'non_striker': 'JJ Roy', 'runs': {'batter': 1, 'extras': 0, 'total': 1}}, {'batter': 'JJ Roy', 'bowler': 'Anwar Ali', 'non_striker': 'AD Hales', 'runs': {'batter': 1, 'extras': 0, 'total': 1}}]\""
      ]
     },
     "execution_count": 13,
     "metadata": {},
     "output_type": "execute_result"
    }
   ],
   "source": [
    "df_ball_by_ball['deliveries'][0]"
   ]
  },
  {
   "cell_type": "code",
   "execution_count": 31,
   "metadata": {},
   "outputs": [
    {
     "name": "stdout",
     "output_type": "stream",
     "text": [
      "[{'batter': 'JJ Roy', 'bowler': 'Anwar Ali', 'non_striker': 'AD Hales', 'runs': {'batter': 0, 'extras': 0, 'total': 0}}, {'batter': 'JJ Roy', 'bowler': 'Anwar Ali', 'non_striker': 'AD Hales', 'runs': {'batter': 3, 'extras': 0, 'total': 3}}, {'batter': 'AD Hales', 'bowler': 'Anwar Ali', 'non_striker': 'JJ Roy', 'runs': {'batter': 0, 'extras': 0, 'total': 0}}, {'batter': 'AD Hales', 'bowler': 'Anwar Ali', 'non_striker': 'JJ Roy', 'runs': {'batter': 0, 'extras': 0, 'total': 0}}, {'batter': 'AD Hales', 'bowler': 'Anwar Ali', 'non_striker': 'JJ Roy', 'runs': {'batter': 1, 'extras': 0, 'total': 1}}, {'batter': 'JJ Roy', 'bowler': 'Anwar Ali', 'non_striker': 'AD Hales', 'runs': {'batter': 1, 'extras': 0, 'total': 1}}]\n"
     ]
    }
   ],
   "source": [
    "def adjust_json_format(json_str):\n",
    "    # Replace single quotes with double quotes\n",
    "    json_str = json_str.replace(\"'\", '\"')\n",
    "    # Replace double quotes with single quotes\n",
    "    json_str = json_str.replace('\"', \"'\")\n",
    "    return json_str\n",
    "\n",
    "\n",
    "# Sample JSON data string\n",
    "json_data = df_ball_by_ball['deliveries'][0]\n",
    "\n",
    "# Adjust the JSON format\n",
    "adjusted_json_data = adjust_json_format(json_data)\n",
    "\n",
    "# Print the adjusted JSON string\n",
    "print(adjusted_json_data)"
   ]
  },
  {
   "cell_type": "code",
   "execution_count": 21,
   "metadata": {},
   "outputs": [
    {
     "ename": "JSONDecodeError",
     "evalue": "Expecting property name enclosed in double quotes: line 1 column 3 (char 2)",
     "output_type": "error",
     "traceback": [
      "\u001b[1;31m---------------------------------------------------------------------------\u001b[0m",
      "\u001b[1;31mJSONDecodeError\u001b[0m                           Traceback (most recent call last)",
      "\u001b[1;32m<ipython-input-21-0a64a69d6052>\u001b[0m in \u001b[0;36m<module>\u001b[1;34m\u001b[0m\n\u001b[0;32m      6\u001b[0m \u001b[1;33m\u001b[0m\u001b[0m\n\u001b[0;32m      7\u001b[0m \u001b[1;31m# Convert JSON to Python object (list of dictionaries)\u001b[0m\u001b[1;33m\u001b[0m\u001b[1;33m\u001b[0m\u001b[1;33m\u001b[0m\u001b[0m\n\u001b[1;32m----> 8\u001b[1;33m \u001b[0mdata\u001b[0m \u001b[1;33m=\u001b[0m \u001b[0mjson\u001b[0m\u001b[1;33m.\u001b[0m\u001b[0mloads\u001b[0m\u001b[1;33m(\u001b[0m\u001b[0mjson_data\u001b[0m\u001b[1;33m)\u001b[0m\u001b[1;33m\u001b[0m\u001b[1;33m\u001b[0m\u001b[0m\n\u001b[0m\u001b[0;32m      9\u001b[0m \u001b[1;33m\u001b[0m\u001b[0m\n\u001b[0;32m     10\u001b[0m \u001b[1;31m# Create a DataFrame\u001b[0m\u001b[1;33m\u001b[0m\u001b[1;33m\u001b[0m\u001b[1;33m\u001b[0m\u001b[0m\n",
      "\u001b[1;32mc:\\Users\\Arul\\AppData\\Local\\Programs\\Python\\Python39\\lib\\json\\__init__.py\u001b[0m in \u001b[0;36mloads\u001b[1;34m(s, cls, object_hook, parse_float, parse_int, parse_constant, object_pairs_hook, **kw)\u001b[0m\n\u001b[0;32m    344\u001b[0m             \u001b[0mparse_int\u001b[0m \u001b[1;32mis\u001b[0m \u001b[1;32mNone\u001b[0m \u001b[1;32mand\u001b[0m \u001b[0mparse_float\u001b[0m \u001b[1;32mis\u001b[0m \u001b[1;32mNone\u001b[0m \u001b[1;32mand\u001b[0m\u001b[1;33m\u001b[0m\u001b[1;33m\u001b[0m\u001b[0m\n\u001b[0;32m    345\u001b[0m             parse_constant is None and object_pairs_hook is None and not kw):\n\u001b[1;32m--> 346\u001b[1;33m         \u001b[1;32mreturn\u001b[0m \u001b[0m_default_decoder\u001b[0m\u001b[1;33m.\u001b[0m\u001b[0mdecode\u001b[0m\u001b[1;33m(\u001b[0m\u001b[0ms\u001b[0m\u001b[1;33m)\u001b[0m\u001b[1;33m\u001b[0m\u001b[1;33m\u001b[0m\u001b[0m\n\u001b[0m\u001b[0;32m    347\u001b[0m     \u001b[1;32mif\u001b[0m \u001b[0mcls\u001b[0m \u001b[1;32mis\u001b[0m \u001b[1;32mNone\u001b[0m\u001b[1;33m:\u001b[0m\u001b[1;33m\u001b[0m\u001b[1;33m\u001b[0m\u001b[0m\n\u001b[0;32m    348\u001b[0m         \u001b[0mcls\u001b[0m \u001b[1;33m=\u001b[0m \u001b[0mJSONDecoder\u001b[0m\u001b[1;33m\u001b[0m\u001b[1;33m\u001b[0m\u001b[0m\n",
      "\u001b[1;32mc:\\Users\\Arul\\AppData\\Local\\Programs\\Python\\Python39\\lib\\json\\decoder.py\u001b[0m in \u001b[0;36mdecode\u001b[1;34m(self, s, _w)\u001b[0m\n\u001b[0;32m    335\u001b[0m \u001b[1;33m\u001b[0m\u001b[0m\n\u001b[0;32m    336\u001b[0m         \"\"\"\n\u001b[1;32m--> 337\u001b[1;33m         \u001b[0mobj\u001b[0m\u001b[1;33m,\u001b[0m \u001b[0mend\u001b[0m \u001b[1;33m=\u001b[0m \u001b[0mself\u001b[0m\u001b[1;33m.\u001b[0m\u001b[0mraw_decode\u001b[0m\u001b[1;33m(\u001b[0m\u001b[0ms\u001b[0m\u001b[1;33m,\u001b[0m \u001b[0midx\u001b[0m\u001b[1;33m=\u001b[0m\u001b[0m_w\u001b[0m\u001b[1;33m(\u001b[0m\u001b[0ms\u001b[0m\u001b[1;33m,\u001b[0m \u001b[1;36m0\u001b[0m\u001b[1;33m)\u001b[0m\u001b[1;33m.\u001b[0m\u001b[0mend\u001b[0m\u001b[1;33m(\u001b[0m\u001b[1;33m)\u001b[0m\u001b[1;33m)\u001b[0m\u001b[1;33m\u001b[0m\u001b[1;33m\u001b[0m\u001b[0m\n\u001b[0m\u001b[0;32m    338\u001b[0m         \u001b[0mend\u001b[0m \u001b[1;33m=\u001b[0m \u001b[0m_w\u001b[0m\u001b[1;33m(\u001b[0m\u001b[0ms\u001b[0m\u001b[1;33m,\u001b[0m \u001b[0mend\u001b[0m\u001b[1;33m)\u001b[0m\u001b[1;33m.\u001b[0m\u001b[0mend\u001b[0m\u001b[1;33m(\u001b[0m\u001b[1;33m)\u001b[0m\u001b[1;33m\u001b[0m\u001b[1;33m\u001b[0m\u001b[0m\n\u001b[0;32m    339\u001b[0m         \u001b[1;32mif\u001b[0m \u001b[0mend\u001b[0m \u001b[1;33m!=\u001b[0m \u001b[0mlen\u001b[0m\u001b[1;33m(\u001b[0m\u001b[0ms\u001b[0m\u001b[1;33m)\u001b[0m\u001b[1;33m:\u001b[0m\u001b[1;33m\u001b[0m\u001b[1;33m\u001b[0m\u001b[0m\n",
      "\u001b[1;32mc:\\Users\\Arul\\AppData\\Local\\Programs\\Python\\Python39\\lib\\json\\decoder.py\u001b[0m in \u001b[0;36mraw_decode\u001b[1;34m(self, s, idx)\u001b[0m\n\u001b[0;32m    351\u001b[0m         \"\"\"\n\u001b[0;32m    352\u001b[0m         \u001b[1;32mtry\u001b[0m\u001b[1;33m:\u001b[0m\u001b[1;33m\u001b[0m\u001b[1;33m\u001b[0m\u001b[0m\n\u001b[1;32m--> 353\u001b[1;33m             \u001b[0mobj\u001b[0m\u001b[1;33m,\u001b[0m \u001b[0mend\u001b[0m \u001b[1;33m=\u001b[0m \u001b[0mself\u001b[0m\u001b[1;33m.\u001b[0m\u001b[0mscan_once\u001b[0m\u001b[1;33m(\u001b[0m\u001b[0ms\u001b[0m\u001b[1;33m,\u001b[0m \u001b[0midx\u001b[0m\u001b[1;33m)\u001b[0m\u001b[1;33m\u001b[0m\u001b[1;33m\u001b[0m\u001b[0m\n\u001b[0m\u001b[0;32m    354\u001b[0m         \u001b[1;32mexcept\u001b[0m \u001b[0mStopIteration\u001b[0m \u001b[1;32mas\u001b[0m \u001b[0merr\u001b[0m\u001b[1;33m:\u001b[0m\u001b[1;33m\u001b[0m\u001b[1;33m\u001b[0m\u001b[0m\n\u001b[0;32m    355\u001b[0m             \u001b[1;32mraise\u001b[0m \u001b[0mJSONDecodeError\u001b[0m\u001b[1;33m(\u001b[0m\u001b[1;34m\"Expecting value\"\u001b[0m\u001b[1;33m,\u001b[0m \u001b[0ms\u001b[0m\u001b[1;33m,\u001b[0m \u001b[0merr\u001b[0m\u001b[1;33m.\u001b[0m\u001b[0mvalue\u001b[0m\u001b[1;33m)\u001b[0m \u001b[1;32mfrom\u001b[0m \u001b[1;32mNone\u001b[0m\u001b[1;33m\u001b[0m\u001b[1;33m\u001b[0m\u001b[0m\n",
      "\u001b[1;31mJSONDecodeError\u001b[0m: Expecting property name enclosed in double quotes: line 1 column 3 (char 2)"
     ]
    }
   ],
   "source": [
    "import pandas as pd\n",
    "import json\n",
    "\n",
    "# Sample JSON object\n",
    "json_data = '[{\"batter\": \"JJ Roy\", \"bowler\": \"Anwar Ali\", \"non_striker\": \"AD Hales\", \"runs\": {\"batter\": 0, \"extras\": 0, \"total\": 0}}, {\"batter\": \"JJ Roy\", \"bowler\": \"Anwar Ali\", \"non_striker\": \"AD Hales\", \"runs\": {\"batter\": 3, \"extras\": 0, \"total\": 3}}, {\"batter\": \"AD Hales\", \"bowler\": \"Anwar Ali\", \"non_striker\": \"JJ Roy\", \"runs\": {\"batter\": 0, \"extras\": 0, \"total\": 0}}, {\"batter\": \"AD Hales\", \"bowler\": \"Anwar Ali\", \"non_striker\": \"JJ Roy\", \"runs\": {\"batter\": 0, \"extras\": 0, \"total\": 0}}, {\"batter\": \"AD Hales\", \"bowler\": \"Anwar Ali\", \"non_striker\": \"JJ Roy\", \"runs\": {\"batter\": 1, \"extras\": 0, \"total\": 1}}, {\"batter\": \"JJ Roy\", \"bowler\": \"Anwar Ali\", \"non_striker\": \"AD Hales\", \"runs\": {\"batter\": 1, \"extras\": 0, \"total\": 1}}]'\n",
    "\n",
    "# Convert JSON to Python object (list of dictionaries)\n",
    "data = json.loads(json_data)\n",
    "\n",
    "# Create a DataFrame\n",
    "df = pd.DataFrame(data)\n",
    "\n",
    "# Extract the 'runs' column and normalize the JSON data\n",
    "runs_data = pd.json_normalize(df['runs'])\n",
    "\n",
    "# Create new columns in the original DataFrame\n",
    "df['batter_runs'] = runs_data['batter']\n",
    "df['extra_runs'] = runs_data['extras']\n",
    "df['total_runs'] = runs_data['total']\n",
    "\n",
    "# Print the modified DataFrame\n",
    "df\n"
   ]
  },
  {
   "cell_type": "code",
   "execution_count": null,
   "metadata": {},
   "outputs": [],
   "source": []
  }
 ],
 "metadata": {
  "kernelspec": {
   "display_name": "Python 3",
   "language": "python",
   "name": "python3"
  },
  "language_info": {
   "codemirror_mode": {
    "name": "ipython",
    "version": 3
   },
   "file_extension": ".py",
   "mimetype": "text/x-python",
   "name": "python",
   "nbconvert_exporter": "python",
   "pygments_lexer": "ipython3",
   "version": "3.9.5"
  },
  "orig_nbformat": 4
 },
 "nbformat": 4,
 "nbformat_minor": 2
}
